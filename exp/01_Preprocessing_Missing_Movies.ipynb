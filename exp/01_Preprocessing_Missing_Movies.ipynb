{
 "cells": [
  {
   "cell_type": "code",
   "execution_count": 1,
   "id": "aa9eada9",
   "metadata": {},
   "outputs": [
    {
     "name": "stdout",
     "output_type": "stream",
     "text": [
      " Volume in drive C has no label.\n",
      " Volume Serial Number is A880-1217\n",
      "\n",
      " Directory of C:\\Users\\Balint\\Desktop\\data_literacy_project\\exp\n",
      "\n",
      "2022. 01. 27.  09:34    <DIR>          .\n",
      "2022. 01. 27.  09:34    <DIR>          ..\n",
      "2022. 01. 27.  09:34    <DIR>          .ipynb_checkpoints\n",
      "2022. 01. 27.  08:58           369ÿ553 00_Looking_Into_Data.ipynb\n",
      "2022. 01. 27.  09:00             5ÿ209 01_Preprocessing_Missing_Movies.ipynb\n",
      "2022. 01. 27.  09:01            11ÿ378 02_Preprocessing_No_Currency.ipynb\n",
      "2022. 01. 27.  09:01            51ÿ141 03_Preprocessing_Currency_Raw.ipynb\n",
      "2022. 01. 27.  09:01            20ÿ138 04_Preprocessing_Currency.ipynb\n",
      "2022. 01. 27.  09:01            81ÿ361 05_Visualizing_Incorrect.ipynb\n",
      "2022. 01. 27.  09:01           107ÿ708 06_Visualizing_Detour.ipynb\n",
      "2022. 01. 27.  09:01           114ÿ714 07_Visualizing_Correct.ipynb\n",
      "2022. 01. 27.  09:02            36ÿ019 08_Hypothesis.ipynb\n",
      "2022. 01. 27.  09:02            27ÿ630 09_LR_Without_Categ.ipynb\n",
      "2022. 01. 27.  09:02           124ÿ244 10_LR.ipynb\n",
      "              11 File(s)        949ÿ095 bytes\n",
      "               3 Dir(s)  11ÿ832ÿ680ÿ448 bytes free\n"
     ]
    }
   ],
   "source": [
    "import numpy as np\n",
    "import pandas as pd"
   ]
  },
  {
   "cell_type": "code",
   "execution_count": 2,
   "id": "0707059d",
   "metadata": {},
   "outputs": [
    {
     "name": "stderr",
     "output_type": "stream",
     "text": [
      "C:\\Users\\Balint\\miniconda3\\envs\\d2l\\lib\\site-packages\\IPython\\core\\interactiveshell.py:3444: DtypeWarning: Columns (4,5) have mixed types.Specify dtype option on import or set low_memory=False.\n",
      "  exec(code_obj, self.user_global_ns, self.user_ns)\n"
     ]
    },
    {
     "name": "stdout",
     "output_type": "stream",
     "text": [
      "overall:  8598896\n",
      "Number of movies:\t 598851\n",
      "Number of movies with rating:\t 273557\n",
      "Number of movies at least 100 ratings:\t 110156\n"
     ]
    }
   ],
   "source": [
    "df = pd.read_csv(\"../dat/imdb_data/title_basics/data.tsv\", sep=\"\\t\")\n",
    "print(\"overall: \", len(df.index))\n",
    "\n",
    "df = df[df[\"titleType\"]==\"movie\"]\n",
    "print(\"Number of movies:\\t\", len(df.index))\n",
    "\n",
    "df_reviews = pd.read_csv(\"../dat/imdb_data/title_ratings/data.tsv\", sep=\"\\t\")\n",
    "\n",
    "df[\"tconst\"] = df[\"tconst\"].astype(str)\n",
    "df_reviews[\"tconst\"] = df_reviews[\"tconst\"].astype(str)\n",
    "\n",
    "df = df.merge(df_reviews, how=\"inner\", on=\"tconst\")\n",
    "print(\"Number of movies with rating:\\t\", len(df.index))\n",
    "\n",
    "df = df[df[\"numVotes\"]>=100]\n",
    "print(\"Number of movies at least 100 ratings:\\t\", df.shape[0])"
   ]
  },
  {
   "cell_type": "code",
   "execution_count": 3,
   "id": "6e33a073",
   "metadata": {},
   "outputs": [
    {
     "name": "stdout",
     "output_type": "stream",
     "text": [
      "Number scraped movies:\t 110155\n"
     ]
    },
    {
     "name": "stderr",
     "output_type": "stream",
     "text": [
      "C:\\Users\\Balint\\miniconda3\\envs\\d2l\\lib\\site-packages\\IPython\\core\\interactiveshell.py:3444: DtypeWarning: Columns (6,7) have mixed types.Specify dtype option on import or set low_memory=False.\n",
      "  exec(code_obj, self.user_global_ns, self.user_ns)\n"
     ]
    }
   ],
   "source": [
    "df_scrape = pd.read_csv(\"../dat/tconst_scraped_data.csv\")\n",
    "print(\"Number scraped movies:\\t\", len(df_scrape.index))"
   ]
  },
  {
   "cell_type": "code",
   "execution_count": 9,
   "id": "1383ae48",
   "metadata": {},
   "outputs": [
    {
     "data": {
      "text/plain": [
       "{'tt11905872', 'tt7368158'}"
      ]
     },
     "execution_count": 9,
     "metadata": {},
     "output_type": "execute_result"
    }
   ],
   "source": [
    "set(df[\"tconst\"].to_list()).difference(df_scrape[\"tconst\"].tolist())"
   ]
  },
  {
   "cell_type": "code",
   "execution_count": 10,
   "id": "cf2998ee",
   "metadata": {},
   "outputs": [
    {
     "data": {
      "text/plain": [
       "{'tt4131756'}"
      ]
     },
     "execution_count": 10,
     "metadata": {},
     "output_type": "execute_result"
    }
   ],
   "source": [
    "set(df_scrape[\"tconst\"].to_list()).difference(df[\"tconst\"].tolist())"
   ]
  },
  {
   "cell_type": "code",
   "execution_count": 5,
   "id": "9f001893",
   "metadata": {},
   "outputs": [
    {
     "name": "stdout",
     "output_type": "stream",
     "text": [
      "True\n"
     ]
    }
   ],
   "source": [
    "print(\"tt11905872\" in df[\"tconst\"].to_list())"
   ]
  },
  {
   "cell_type": "code",
   "execution_count": 6,
   "id": "1cda9713",
   "metadata": {},
   "outputs": [
    {
     "name": "stdout",
     "output_type": "stream",
     "text": [
      "True\n"
     ]
    }
   ],
   "source": [
    "print(\"tt7368158\" in df[\"tconst\"].to_list())"
   ]
  },
  {
   "cell_type": "code",
   "execution_count": 7,
   "id": "30696772",
   "metadata": {},
   "outputs": [
    {
     "name": "stdout",
     "output_type": "stream",
     "text": [
      "False\n",
      "False\n"
     ]
    }
   ],
   "source": [
    "print(\"tt11905872\" in df_scrape[\"tconst\"].to_list())\n",
    "print(\"tt7368158\" in df_scrape[\"tconst\"].to_list())"
   ]
  },
  {
   "cell_type": "code",
   "execution_count": 8,
   "id": "845919d0",
   "metadata": {},
   "outputs": [
    {
     "data": {
      "text/plain": [
       "{'tt4131756'}"
      ]
     },
     "execution_count": 8,
     "metadata": {},
     "output_type": "execute_result"
    }
   ],
   "source": [
    "set(df_scrape[\"tconst\"].to_list()).difference(df[\"tconst\"].tolist())"
   ]
  },
  {
   "cell_type": "code",
   "execution_count": null,
   "id": "b547f266",
   "metadata": {},
   "outputs": [],
   "source": []
  }
 ],
 "metadata": {
  "kernelspec": {
   "display_name": "Python 3 (ipykernel)",
   "language": "python",
   "name": "python3"
  },
  "language_info": {
   "codemirror_mode": {
    "name": "ipython",
    "version": 3
   },
   "file_extension": ".py",
   "mimetype": "text/x-python",
   "name": "python",
   "nbconvert_exporter": "python",
   "pygments_lexer": "ipython3",
   "version": "3.9.7"
  }
 },
 "nbformat": 4,
 "nbformat_minor": 5
}
