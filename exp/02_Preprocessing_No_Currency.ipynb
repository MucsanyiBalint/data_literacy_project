{
 "cells": [
  {
   "cell_type": "code",
   "execution_count": 1,
   "id": "3c313086",
   "metadata": {},
   "outputs": [],
   "source": [
    "import numpy as np\n",
    "import pandas as pd"
   ]
  },
  {
   "cell_type": "code",
   "execution_count": 2,
   "id": "f2007571",
   "metadata": {},
   "outputs": [
    {
     "name": "stderr",
     "output_type": "stream",
     "text": [
      "/home/daniel/.local/lib/python3.8/site-packages/IPython/core/interactiveshell.py:3169: DtypeWarning: Columns (4,5) have mixed types.Specify dtype option on import or set low_memory=False.\n",
      "  has_raised = await self.run_ast_nodes(code_ast.body, cell_name,\n"
     ]
    },
    {
     "name": "stdout",
     "output_type": "stream",
     "text": [
      "overall:  8598896\n",
      "Number of movies:\t 598851\n",
      "Number of movies with rating:\t 273557\n"
     ]
    },
    {
     "name": "stderr",
     "output_type": "stream",
     "text": [
      "/home/daniel/.local/lib/python3.8/site-packages/IPython/core/interactiveshell.py:3169: DtypeWarning: Columns (6,7) have mixed types.Specify dtype option on import or set low_memory=False.\n",
      "  has_raised = await self.run_ast_nodes(code_ast.body, cell_name,\n"
     ]
    },
    {
     "name": "stdout",
     "output_type": "stream",
     "text": [
      "Number scraped movies:\t 273543\n",
      "Number of movies after dropping:\t 273543\n",
      "Number of movies after merge:\t 273543\n",
      "Number of movies after crew merge:\t 273543\n",
      "saved dataframe sucesfully!\n"
     ]
    }
   ],
   "source": [
    "# Read the basic data frame of IMDb\n",
    "df = pd.read_csv(\"../dat/imdb_data/title_basics/data.tsv\", sep=\"\\t\")\n",
    "print(\"overall: \", len(df.index))\n",
    "\n",
    "# Sort out any non-movies (e.g tv-shows)\n",
    "df = df[df[\"titleType\"] == \"movie\"]\n",
    "print(\"Number of movies:\\t\", len(df.index))\n",
    "\n",
    "# Read the review data frame of IMDb\n",
    "df_reviews = pd.read_csv(\"../dat/imdb_data/title_ratings/data.tsv\", sep=\"\\t\")\n",
    "\n",
    "df[\"tconst\"] = df[\"tconst\"].astype(str)\n",
    "df_reviews[\"tconst\"] = df_reviews[\"tconst\"].astype(str)\n",
    "\n",
    "# inner merge of movies and ratings (movies without any votes are dropped)\n",
    "df = df.merge(df_reviews, how=\"inner\", on=\"tconst\")\n",
    "print(\"Number of movies with rating:\\t\", len(df.index))\n",
    "\n",
    "# Free up some memory\n",
    "del df_reviews\n",
    "\n",
    "\n",
    "# Read in our scraped data\n",
    "df_scrape = pd.read_csv(\"../dat/tconst_scraped_data.csv\")\n",
    "df_scrape = df_scrape[~df_scrape.duplicated(['tconst'], keep=\"first\")]\n",
    "print(\"Number scraped movies:\\t\", len(df_scrape))\n",
    "\n",
    "## Hard Coding\n",
    "\n",
    "# Change Movie ID \"\" in the basic DF to the new id \"\"\n",
    "# These are the same movie. The basic IMDb data set has an old (invalid) tconst\n",
    "df[\"tconst\"] = df[\"tconst\"].replace([\"tt11905872\"], \"tt4131756\")\n",
    "df[\"tconst\"] = df[\"tconst\"].replace([\"tt4332782\"], \"tt0246007\")\n",
    "df[\"tconst\"] = df[\"tconst\"].replace([\"tt5072702\"], \"tt4508986\")\n",
    "df[\"tconst\"] = df[\"tconst\"].replace([\"tt6419536\"], \"tt4481310\")\n",
    "\n",
    "df = df[~df.duplicated(['tconst'], keep=\"first\")]\n",
    "\n",
    "# Drop Movie \n",
    "# \"tt7368158\", \"tt2437136\", \"tt2584608\", \"tt6858500\",\n",
    "# \"tt7375242\", \"tt7598832\", \"tt7718552\", \"tt7728678\", \"tt7738378\"\n",
    "# \"tt8768374\", \"tt9828428\"\n",
    "# because it's no longer available\n",
    "# Movie not available (404 Error)\n",
    "df = df[df.tconst != \"tt7368158\"]\n",
    "df = df[df.tconst != \"tt2437136\"]\n",
    "df = df[df.tconst != \"tt2584608\"]\n",
    "df = df[df.tconst != \"tt6858500\"]\n",
    "df = df[df.tconst != \"tt7375242\"]\n",
    "df = df[df.tconst != \"tt7598832\"]\n",
    "df = df[df.tconst != \"tt7718552\"]\n",
    "df = df[df.tconst != \"tt7728678\"]\n",
    "df = df[df.tconst != \"tt7738378\"]\n",
    "df = df[df.tconst != \"tt8768374\"]\n",
    "df = df[df.tconst != \"tt9828428\"]\n",
    "print(\"Number of movies after dropping:\\t\", df.shape[0])\n",
    "\n",
    "# Movie \"tt1027755\" does not have start year but was realeased in 2012\n",
    "df.iloc[62178, 5] = \"2012\"\n",
    "\n",
    "df[\"tconst\"] = df[\"tconst\"].astype(str)\n",
    "df_scrape[\"tconst\"] = df_scrape[\"tconst\"].astype(str)\n",
    "df2 = df.copy()\n",
    "\n",
    "\n",
    "# Merge the data frame and the scraped content\n",
    "df = df.merge(df_scrape, how=\"inner\", on=\"tconst\")\n",
    "print(\"Number of movies after merge:\\t\", df.shape[0])\n",
    "\n",
    "# Free up some memory\n",
    "del df_scrape\n",
    "\n",
    "# Read the review data frame of IMDb\n",
    "df_crew = pd.read_csv(\"../dat/imdb_data/title_crew/data.tsv\", sep=\"\\t\")\n",
    "\n",
    "df[\"tconst\"] = df[\"tconst\"].astype(str)\n",
    "df_crew[\"tconst\"] = df_crew[\"tconst\"].astype(str)\n",
    "\n",
    "# inner merge of movies and ratings (movies without any votes are dropped)\n",
    "df = df.merge(df_crew, how=\"inner\", on=\"tconst\")\n",
    "print(\"Number of movies after crew merge:\\t\", len(df))\n",
    "\n",
    "\n",
    "# Free up some memory\n",
    "del df_crew\n",
    "\n",
    "# Sort according to tconst\n",
    "df = df.sort_values(\"tconst\")\n",
    "\n",
    "df.to_csv(\"../dat/raw_data.csv\", index=False)\n",
    "print(\"saved dataframe sucesfully!\")"
   ]
  },
  {
   "cell_type": "code",
   "execution_count": null,
   "id": "90a0a4bf",
   "metadata": {},
   "outputs": [],
   "source": [
    "import re\n",
    "from collections import Counter\n",
    "\n",
    "budget = df[\"Budget\"].to_numpy()\n",
    "\n",
    "currencies = []\n",
    "counter = 0\n",
    "\n",
    "for i in range(len(budget)):\n",
    "    string = budget[i]\n",
    "\n",
    "    if not pd.isna(string):\n",
    "        number = \"\".join(re.findall(r\"[\\d]+\", string))\n",
    "        currency = re.findall(r\"[^{\\d,\\xa0}]+\", string)[0]\n",
    "        currencies.append(currency)\n",
    "\n",
    "        if currency in [\"$\", \"£\", \"€\", \"CA$\", \"₹\", \"A$\"]:\n",
    "            counter += 1\n",
    "\n",
    "print(Counter(currencies))\n",
    "print(counter)\n",
    "\n",
    "# data for [\"$\", \"€\", \"CA$\", \"£\", \"A$\", ]"
   ]
  },
  {
   "cell_type": "code",
   "execution_count": null,
   "id": "19f7d778",
   "metadata": {},
   "outputs": [],
   "source": [
    "from currency_converter import CurrencyConverter\n",
    "from datetime import date  # datetime works too\n",
    "\n",
    "c = CurrencyConverter(fallback_on_wrong_date=True)\n",
    "c.convert(100, \"USD\", date=date(1999, 3, 1))"
   ]
  },
  {
   "cell_type": "code",
   "execution_count": null,
   "id": "1be9072d",
   "metadata": {},
   "outputs": [],
   "source": [
    "np.unique(currencies)"
   ]
  },
  {
   "cell_type": "code",
   "execution_count": null,
   "id": "7245868b",
   "metadata": {},
   "outputs": [],
   "source": [
    "print(df_budget[df_budget[\"primaryTitle\"] == \"Up\"])"
   ]
  },
  {
   "cell_type": "code",
   "execution_count": null,
   "id": "714f33bf",
   "metadata": {},
   "outputs": [],
   "source": [
    "print(\"\\xa0\")"
   ]
  },
  {
   "cell_type": "code",
   "execution_count": null,
   "id": "d9cd10e7",
   "metadata": {},
   "outputs": [],
   "source": [
    "# ours 797_615_189.873417\n",
    "# infl 797_701_090.78"
   ]
  },
  {
   "cell_type": "code",
   "execution_count": null,
   "id": "54c5fe08",
   "metadata": {},
   "outputs": [],
   "source": [
    "df.to_csv(\"../dat/raw_data.csv\", index=False)"
   ]
  },
  {
   "cell_type": "code",
   "execution_count": null,
   "id": "f5849914",
   "metadata": {},
   "outputs": [],
   "source": [
    "c.currencies"
   ]
  },
  {
   "cell_type": "code",
   "execution_count": null,
   "id": "01d62f96",
   "metadata": {},
   "outputs": [],
   "source": []
  }
 ],
 "metadata": {
  "kernelspec": {
   "display_name": "Python 3",
   "language": "python",
   "name": "python3"
  },
  "language_info": {
   "codemirror_mode": {
    "name": "ipython",
    "version": 3
   },
   "file_extension": ".py",
   "mimetype": "text/x-python",
   "name": "python",
   "nbconvert_exporter": "python",
   "pygments_lexer": "ipython3",
   "version": "3.8.10"
  }
 },
 "nbformat": 4,
 "nbformat_minor": 5
}
