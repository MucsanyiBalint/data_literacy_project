{
 "cells": [
  {
   "cell_type": "markdown",
   "id": "f35ef4fb-3a98-4cf1-b4e2-1b87654cf20e",
   "metadata": {},
   "source": [
    "### Selecting columns, viualizing"
   ]
  },
  {
   "cell_type": "code",
   "execution_count": 1,
   "id": "eb5b3334-f8fc-4bc0-ba11-a29eff4269d6",
   "metadata": {},
   "outputs": [],
   "source": [
    "from matplotlib import pyplot as plt\n",
    "import pandas as pd\n",
    "import numpy as np\n",
    "import itertools"
   ]
  },
  {
   "cell_type": "code",
   "execution_count": 2,
   "id": "d43f9484-66ab-455b-ad5b-e52f5971e4a0",
   "metadata": {},
   "outputs": [
    {
     "name": "stderr",
     "output_type": "stream",
     "text": [
      "/home/daniel/.local/lib/python3.8/site-packages/IPython/core/interactiveshell.py:3169: DtypeWarning: Columns (5,16) have mixed types.Specify dtype option on import or set low_memory=False.\n",
      "  has_raised = await self.run_ast_nodes(code_ast.body, cell_name,\n"
     ]
    }
   ],
   "source": [
    "data = pd.read_csv(\"../dat/data_clean.csv\")"
   ]
  },
  {
   "cell_type": "code",
   "execution_count": 3,
   "id": "8d756f1c-509d-4a86-83fd-de9c7b14aab0",
   "metadata": {},
   "outputs": [
    {
     "name": "stdout",
     "output_type": "stream",
     "text": [
      "<class 'pandas.core.frame.DataFrame'>\n",
      "RangeIndex: 273543 entries, 0 to 273542\n",
      "Data columns (total 20 columns):\n",
      " #   Column                       Non-Null Count   Dtype  \n",
      "---  ------                       --------------   -----  \n",
      " 0   tconst                       273543 non-null  object \n",
      " 1   titleType                    273543 non-null  object \n",
      " 2   primaryTitle                 273543 non-null  object \n",
      " 3   originalTitle                273543 non-null  object \n",
      " 4   isAdult                      273543 non-null  int64  \n",
      " 5   startYear                    273543 non-null  object \n",
      " 6   endYear                      273543 non-null  object \n",
      " 7   runtimeMinutes               273543 non-null  object \n",
      " 8   genres                       273543 non-null  object \n",
      " 9   averageRating                273543 non-null  float64\n",
      " 10  numVotes                     273543 non-null  int64  \n",
      " 11  Budget                       49881 non-null   float64\n",
      " 12  Gross US & Canada            18982 non-null   float64\n",
      " 13  Opening weekend US & Canada  16112 non-null   float64\n",
      " 14  Gross worldwide              45004 non-null   float64\n",
      " 15  Rating                       82925 non-null   object \n",
      " 16  Critic reviews               89561 non-null   object \n",
      " 17  User reviews                 114165 non-null  object \n",
      " 18  directors                    273543 non-null  object \n",
      " 19  writers                      273543 non-null  object \n",
      "dtypes: float64(5), int64(2), object(13)\n",
      "memory usage: 41.7+ MB\n"
     ]
    }
   ],
   "source": [
    "data.info()"
   ]
  },
  {
   "cell_type": "code",
   "execution_count": 4,
   "id": "d78fc93f-150c-446e-81db-3804a9cffcdc",
   "metadata": {},
   "outputs": [
    {
     "name": "stdout",
     "output_type": "stream",
     "text": [
      "318\n"
     ]
    }
   ],
   "source": [
    "data[\"Critic reviews\"] = data[\"Critic reviews\"].fillna(0)\n",
    "data[\"User reviews\"] = data[\"User reviews\"].fillna(0)\n",
    "\n",
    "data[\"isAdult2\"] = data.apply(lambda row: int(\"Adult\" in row[\"genres\"]), axis=1)\n",
    "print(len(data[data[\"isAdult\"] != data[\"isAdult2\"]]))  # We use the one based on the genres\n",
    "\n",
    "# tconst was only required for joins\n",
    "# titleType is only films for us, we filtered them\n",
    "# we do not use the titles as predictors\n",
    "# endYear is None for all films\n",
    "# isAdult will be added back in a consistent format later on\n",
    "data = data.drop(columns=[\"tconst\", \"titleType\", \"primaryTitle\", \"originalTitle\", \"endYear\", \"isAdult\", \"isAdult2\"])"
   ]
  },
  {
   "cell_type": "code",
   "execution_count": 5,
   "id": "d1953459-68c5-437c-9da7-4bd1c8390acf",
   "metadata": {},
   "outputs": [
    {
     "name": "stdout",
     "output_type": "stream",
     "text": [
      "{'Drama', 'Sci-Fi', 'Musical', 'Biography', 'History', 'Documentary', 'Family', 'Western', 'Crime', 'News', 'Fantasy', 'Reality-TV', 'Short', 'Sport', 'Animation', 'Film-Noir', 'War', 'Comedy', 'Thriller', '\\\\N', 'Adventure', 'Mystery', 'Horror', 'Music', 'Action', 'Romance', 'Adult', 'Talk-Show', 'Game-Show'}\n"
     ]
    }
   ],
   "source": [
    "genre_list = data[\"genres\"].unique().tolist()\n",
    "for i, entry in enumerate(genre_list):\n",
    "    genre_list[i] = entry.split(\",\")\n",
    "\n",
    "genre_set = set(itertools.chain(*genre_list))\n",
    "print(genre_set)\n",
    "# Here short is a weird category, as there is also a short category in the titleType column, where we only\n",
    "# kept films. Here the IMDb database is a bit inconsistent."
   ]
  },
  {
   "cell_type": "code",
   "execution_count": 6,
   "id": "278fa605-7d45-41dc-9c57-92f001a7a30c",
   "metadata": {},
   "outputs": [
    {
     "name": "stdout",
     "output_type": "stream",
     "text": [
      "Drama Sci-Fi Musical Biography History Documentary Family Western Crime News Fantasy Reality-TV Short Sport Animation Film-Noir War Comedy Thriller \\N Adventure Mystery Horror Music Action Romance Adult Talk-Show Game-Show "
     ]
    }
   ],
   "source": [
    "for genre in genre_set:\n",
    "    print(genre, end=\" \")\n",
    "    data[f\"is{genre}\"] = data.apply(lambda row: int(genre in row[\"genres\"]), axis=1)"
   ]
  },
  {
   "cell_type": "code",
   "execution_count": 7,
   "id": "bae03aed-0277-408e-90ab-f61534aaa724",
   "metadata": {},
   "outputs": [
    {
     "name": "stdout",
     "output_type": "stream",
     "text": [
      "Drama 121169\n",
      "Sci-Fi 6498\n",
      "Musical 6177\n",
      "Biography 8245\n",
      "History 7525\n",
      "Documentary 40450\n",
      "Family 10613\n",
      "Western 5034\n",
      "Crime 23356\n",
      "News 652\n",
      "Fantasy 8091\n",
      "Reality-TV 43\n",
      "Short 24\n",
      "Sport 3236\n",
      "Animation 4812\n",
      "Film-Noir 761\n",
      "War 5882\n",
      "Comedy 67803\n",
      "Thriller 22321\n",
      "\\N 10234\n",
      "Adventure 17205\n",
      "Mystery 10196\n",
      "Horror 19359\n",
      "Music 12423\n",
      "Action 28352\n",
      "Romance 30430\n",
      "Adult 4229\n",
      "Talk-Show 8\n",
      "Game-Show 2\n"
     ]
    }
   ],
   "source": [
    "for genre in genre_set:\n",
    "    print(genre, data[f\"is{genre}\"].sum())"
   ]
  },
  {
   "cell_type": "code",
   "execution_count": 8,
   "id": "1f98425f-60ec-4147-92cf-16760d26322c",
   "metadata": {},
   "outputs": [],
   "source": [
    "# We drop categories that do not have enough samples to be representative\n",
    "# We draw the line at 100\n",
    "# We also drop writers and directors. These are interesting features,\n",
    "# but having them as binary columns would be infeasible.\n",
    "# Genres are added as binary predictors, thus the genres column is no longer used.\n",
    "data = data.drop(columns=[\"isShort\", \"isReality-TV\", \"is\\\\N\", \"isTalk-Show\", \"directors\", \"writers\", \"genres\"])"
   ]
  },
  {
   "cell_type": "code",
   "execution_count": null,
   "id": "a88325f4-9d05-44c2-8608-46d92f940cd4",
   "metadata": {},
   "outputs": [
    {
     "name": "stdout",
     "output_type": "stream",
     "text": [
      "nan Not Rated Unrated TV-PG Passed Approved G TV-14 TV-G PG-13 PG TV-MA Open GP R M/PG TV-Y7 M X TV-13 TV-Y7-FV NC-17 AO E (Banned) 12 TV-Y T MA-13 18 E10+ MA-17 "
     ]
    }
   ],
   "source": [
    "for rating in data.Rating.unique():\n",
    "    print(rating, end=\" \")\n",
    "    data[f\"is{rating}\"] = data.apply(lambda row: int(row[\"Rating\"] == rating), axis=1)"
   ]
  },
  {
   "cell_type": "code",
   "execution_count": null,
   "id": "babc7280-9c11-4336-ba64-5db77fd99196",
   "metadata": {},
   "outputs": [],
   "source": [
    "for rating in data.Rating.unique():\n",
    "    print(rating, data[f\"is{rating}\"].sum())\n",
    "    \n",
    "# Not needed anymore, we have the binary version\n",
    "data = data.drop(columns=[\"Rating\"])"
   ]
  },
  {
   "cell_type": "code",
   "execution_count": null,
   "id": "8c6655fe-0a73-4a0d-b8e3-6de6417e2138",
   "metadata": {},
   "outputs": [],
   "source": [
    "# Again, we drop ratings that do not have enough samples to be representative\n",
    "# We draw the line at 100\n",
    "data = data.drop(columns=[\n",
    "    \"isnan\", \"isOpen\", \"isM/PG\", \"isTV-Y7\", \"isM\", \"isTV-13\",\n",
    "    \"isTV-Y7-FV\", \"isNC-17\", \"isAO\", \"is(Banned)\", \"isE\",\n",
    "    \"is12\", \"isTV-Y\", \"is18\", \"isE10+\", \"isMA-17\"]\n",
    ")"
   ]
  },
  {
   "cell_type": "code",
   "execution_count": null,
   "id": "ce8e91cf-33bb-4d49-8f99-8a6fe2d090fe",
   "metadata": {},
   "outputs": [],
   "source": [
    "def clean_unknowns(row, column):\n",
    "    if row[column] == \"\\\\N\":\n",
    "        return None\n",
    "    else:\n",
    "        return row[column]\n",
    "\n",
    "def clean_reviews(row, column):\n",
    "    if isinstance(row[column], str) and \"K\" in row[column]:\n",
    "        # print(row[column], end=\" -> \")\n",
    "        if \".\" in row[column]:\n",
    "            # print(int(row[column][:-3]) * 1000 + int(row[column][-2]) * 100)\n",
    "            return int(row[column][:-3]) * 1000 + int(row[column][-2]) * 100\n",
    "        else:\n",
    "            # print(int(row[column][:-1]) * 1000)\n",
    "            return int(row[column][:-1]) * 1000\n",
    "    else:\n",
    "        return row[column]\n",
    "\n",
    "# Just an example of problematic data types\n",
    "# print(\"Problematic form\")\n",
    "# print(data.startYear.unique())\n",
    "# print(data.runtimeMinutes.unique())\n",
    "# print(data[\"User reviews\"].unique())\n",
    "# print(data[\"Critic reviews\"].unique())\n",
    "\n",
    "data[\"startYear\"] = data.apply(lambda row: clean_unknowns(row, \"startYear\"), axis=1)\n",
    "data[\"runtimeMinutes\"] = data.apply(lambda row: clean_unknowns(row, \"runtimeMinutes\"), axis=1)\n",
    "data[\"User reviews\"] = data.apply(lambda row: clean_reviews(row, \"User reviews\"), axis=1)\n",
    "data[\"Critic reviews\"] = data.apply(lambda row: clean_reviews(row, \"Critic reviews\"), axis=1)\n",
    "\n",
    "for column in [\"startYear\", \"runtimeMinutes\", \"User reviews\", \"Critic reviews\"]:\n",
    "    data[column] = pd.to_numeric(data[column])\n",
    "\n",
    "# print(\"Resolved form\")\n",
    "# print(data.startYear.unique())\n",
    "# print(data.runtimeMinutes.unique())\n",
    "# print(data[\"User reviews\"].unique())\n",
    "# print(data[\"Critic reviews\"].unique())"
   ]
  },
  {
   "cell_type": "code",
   "execution_count": null,
   "id": "85ef5878-ecf4-43ec-960b-74d1ed561e1f",
   "metadata": {},
   "outputs": [],
   "source": [
    "print(\"All features present:\")\n",
    "filtered = data.dropna()\n",
    "print(len(filtered))\n",
    "print()\n",
    "\n",
    "print(\"Opening weekend not present:\")\n",
    "filtered2 = data.drop(columns=[\"Opening weekend US & Canada\"]).dropna()\n",
    "print(len(filtered2))\n",
    "print()\n",
    "\n",
    "print(\"Opening weekend + Gross not present:\")\n",
    "filtered3 = data.drop(columns=[\"Opening weekend US & Canada\", \"Gross US & Canada\"]).dropna()\n",
    "print(len(filtered3))\n",
    "print()"
   ]
  },
  {
   "cell_type": "code",
   "execution_count": null,
   "id": "069f0419-238a-45f2-82da-bec40d1fd45c",
   "metadata": {},
   "outputs": [],
   "source": [
    "filtered.corr()"
   ]
  },
  {
   "cell_type": "code",
   "execution_count": null,
   "id": "740b66aa-80c2-4588-bf6d-ad9b93665e74",
   "metadata": {},
   "outputs": [],
   "source": [
    "filtered3.isAdult.unique()"
   ]
  },
  {
   "cell_type": "code",
   "execution_count": null,
   "id": "ffa511e8",
   "metadata": {},
   "outputs": [],
   "source": []
  }
 ],
 "metadata": {
  "kernelspec": {
   "display_name": "Python 3",
   "language": "python",
   "name": "python3"
  },
  "language_info": {
   "codemirror_mode": {
    "name": "ipython",
    "version": 3
   },
   "file_extension": ".py",
   "mimetype": "text/x-python",
   "name": "python",
   "nbconvert_exporter": "python",
   "pygments_lexer": "ipython3",
   "version": "3.8.10"
  }
 },
 "nbformat": 4,
 "nbformat_minor": 5
}
