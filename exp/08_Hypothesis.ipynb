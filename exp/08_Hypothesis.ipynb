{
 "cells": [
  {
   "cell_type": "markdown",
   "id": "f35ef4fb-3a98-4cf1-b4e2-1b87654cf20e",
   "metadata": {},
   "source": [
    "### Selecting columns, viualizing"
   ]
  },
  {
   "cell_type": "code",
   "execution_count": 1,
   "id": "eb5b3334-f8fc-4bc0-ba11-a29eff4269d6",
   "metadata": {},
   "outputs": [],
   "source": [
    "from matplotlib import pyplot as plt\n",
    "import pandas as pd\n",
    "import numpy as np\n",
    "import itertools"
   ]
  },
  {
   "cell_type": "code",
   "execution_count": 2,
   "id": "d43f9484-66ab-455b-ad5b-e52f5971e4a0",
   "metadata": {},
   "outputs": [
    {
     "name": "stderr",
     "output_type": "stream",
     "text": [
      "C:\\Users\\Balint\\miniconda3\\envs\\d2l\\lib\\site-packages\\IPython\\core\\interactiveshell.py:3444: DtypeWarning: Columns (5,17) have mixed types.Specify dtype option on import or set low_memory=False.\n",
      "  exec(code_obj, self.user_global_ns, self.user_ns)\n"
     ]
    }
   ],
   "source": [
    "data = pd.read_csv(\"../dat/data_clean.csv\")"
   ]
  },
  {
   "cell_type": "code",
   "execution_count": 3,
   "id": "8d756f1c-509d-4a86-83fd-de9c7b14aab0",
   "metadata": {},
   "outputs": [
    {
     "name": "stdout",
     "output_type": "stream",
     "text": [
      "<class 'pandas.core.frame.DataFrame'>\n",
      "RangeIndex: 110155 entries, 0 to 110154\n",
      "Data columns (total 20 columns):\n",
      " #   Column                       Non-Null Count   Dtype  \n",
      "---  ------                       --------------   -----  \n",
      " 0   tconst                       110155 non-null  object \n",
      " 1   titleType                    110155 non-null  object \n",
      " 2   primaryTitle                 110155 non-null  object \n",
      " 3   originalTitle                110155 non-null  object \n",
      " 4   isAdult                      110155 non-null  int64  \n",
      " 5   startYear                    110155 non-null  object \n",
      " 6   endYear                      110155 non-null  object \n",
      " 7   runtimeMinutes               110155 non-null  object \n",
      " 8   genres                       110155 non-null  object \n",
      " 9   averageRating                110155 non-null  float64\n",
      " 10  numVotes                     110155 non-null  int64  \n",
      " 11  Budget                       26636 non-null   float64\n",
      " 12  Gross US & Canada            18139 non-null   float64\n",
      " 13  Opening weekend US & Canada  15542 non-null   float64\n",
      " 14  Gross worldwide              37569 non-null   float64\n",
      " 15  Rating                       58937 non-null   object \n",
      " 16  User reviews                 88915 non-null   object \n",
      " 17  Critic reviews               76877 non-null   object \n",
      " 18  directors                    110155 non-null  object \n",
      " 19  writers                      110155 non-null  object \n",
      "dtypes: float64(5), int64(2), object(13)\n",
      "memory usage: 16.8+ MB\n"
     ]
    }
   ],
   "source": [
    "data.info()"
   ]
  },
  {
   "cell_type": "code",
   "execution_count": 4,
   "id": "d78fc93f-150c-446e-81db-3804a9cffcdc",
   "metadata": {},
   "outputs": [
    {
     "name": "stdout",
     "output_type": "stream",
     "text": [
      "52\n"
     ]
    }
   ],
   "source": [
    "data[\"Critic reviews\"] = data[\"Critic reviews\"].fillna(0)\n",
    "data[\"User reviews\"] = data[\"User reviews\"].fillna(0)\n",
    "\n",
    "data[\"isAdult2\"] = data.apply(lambda row: int(\"Adult\" in row[\"genres\"]), axis=1)\n",
    "print(len(data[data[\"isAdult\"] != data[\"isAdult2\"]]))  # We use the one based on the genres\n",
    "\n",
    "# tconst was only required for joins\n",
    "# titleType is only films for us, we filtered them\n",
    "# we do not use the titles as predictors\n",
    "# endYear is None for all films\n",
    "# isAdult will be added back in a consistent format later on\n",
    "data = data.drop(columns=[\"tconst\", \"titleType\", \"primaryTitle\", \"originalTitle\", \"endYear\", \"isAdult\", \"isAdult2\", \"Gross US & Canada\"])  #, \"Opening weekend US & Canada\", ])\n",
    "data = data.dropna()"
   ]
  },
  {
   "cell_type": "code",
   "execution_count": 5,
   "id": "d1953459-68c5-437c-9da7-4bd1c8390acf",
   "metadata": {},
   "outputs": [
    {
     "name": "stdout",
     "output_type": "stream",
     "text": [
      "{'Documentary', 'Mystery', 'Biography', 'Crime', 'Adventure', 'Action', 'Film-Noir', 'Animation', 'History', 'Comedy', 'Romance', 'Sport', 'News', 'Western', 'Fantasy', 'War', 'Music', 'Sci-Fi', 'Musical', 'Drama', 'Thriller', 'Horror', 'Family'}\n"
     ]
    }
   ],
   "source": [
    "genre_list = data[\"genres\"].unique().tolist()\n",
    "for i, entry in enumerate(genre_list):\n",
    "    genre_list[i] = entry.split(\",\")\n",
    "\n",
    "genre_set = set(itertools.chain(*genre_list))\n",
    "print(genre_set)"
   ]
  },
  {
   "cell_type": "code",
   "execution_count": 6,
   "id": "278fa605-7d45-41dc-9c57-92f001a7a30c",
   "metadata": {},
   "outputs": [
    {
     "name": "stdout",
     "output_type": "stream",
     "text": [
      "Documentary Mystery Biography Crime Adventure Action Film-Noir Animation History Comedy Romance Sport News Western Fantasy War Music Sci-Fi Musical Drama Thriller Horror Family "
     ]
    }
   ],
   "source": [
    "for genre in genre_set:\n",
    "    print(genre, end=\" \")\n",
    "    data[f\"is{genre}\"] = data.apply(lambda row: int(genre in row[\"genres\"]), axis=1)"
   ]
  },
  {
   "cell_type": "code",
   "execution_count": 7,
   "id": "bae03aed-0277-408e-90ab-f61534aaa724",
   "metadata": {},
   "outputs": [
    {
     "name": "stdout",
     "output_type": "stream",
     "text": [
      "Documentary 1.0155346639183551 %\n",
      "Mystery 3.3482479513347743 %\n",
      "Biography 2.810316223417626 %\n",
      "Crime 7.4003318083555385 %\n",
      "Adventure 6.887537077070031 %\n",
      "Action 9.220250364486452 %\n",
      "Film-Noir 0.02010959730531396 %\n",
      "Animation 1.9053843446784977 %\n",
      "History 1.3724800160876778 %\n",
      "Comedy 15.343622743954551 %\n",
      "Romance 7.078578251470515 %\n",
      "Sport 0.9954250666130411 %\n",
      "News 0.015082197978985471 %\n",
      "Western 0.276506962948067 %\n",
      "Fantasy 3.026494394449751 %\n",
      "War 0.789301694233573 %\n",
      "Music 1.8299733547835706 %\n",
      "Sci-Fi 2.5891106530591723 %\n",
      "Musical 0.45246593936956414 %\n",
      "Drama 21.532351314664925 %\n",
      "Thriller 5.887084611130662 %\n",
      "Horror 3.956563269820522 %\n",
      "Family 2.2472474988688353 %\n"
     ]
    }
   ],
   "source": [
    "results = []\n",
    "for genre in genre_set:\n",
    "    results.append(data[f\"is{genre}\"].sum())\n",
    "\n",
    "sum_results = sum(results)\n",
    "for genre in genre_set:\n",
    "    print(genre, data[f\"is{genre}\"].sum() / sum_results * 100, \"%\")"
   ]
  },
  {
   "cell_type": "code",
   "execution_count": 8,
   "id": "1f98425f-60ec-4147-92cf-16760d26322c",
   "metadata": {},
   "outputs": [],
   "source": [
    "# We drop writers and directors. These are interesting features,\n",
    "# but having them as binary columns would be infeasible.\n",
    "# Genres are added as binary predictors, thus the genres column is no longer used.\n",
    "data = data.drop(columns=[\"genres\"])  # \"isMusical\", \"isFilm-Noir\", \"isNews\", \"isSport\", \"genres\"])\n",
    "\n",
    "def unrated_to_not_rated(row):\n",
    "    if row[\"Rating\"] == \"Unrated\":\n",
    "        return \"Not Rated\"\n",
    "    else:\n",
    "        return row[\"Rating\"]\n",
    "\n",
    "data[\"Rating\"] = data.apply(unrated_to_not_rated, axis=1)"
   ]
  },
  {
   "cell_type": "code",
   "execution_count": 9,
   "id": "a88325f4-9d05-44c2-8608-46d92f940cd4",
   "metadata": {},
   "outputs": [],
   "source": [
    "data[f\"isRated\"] = data.apply(lambda row: int(row[\"Rating\"] != \"Not Rated\"), axis=1)"
   ]
  },
  {
   "cell_type": "code",
   "execution_count": 10,
   "id": "babc7280-9c11-4336-ba64-5db77fd99196",
   "metadata": {},
   "outputs": [],
   "source": [
    "data = data.drop(columns=[\"Rating\"])"
   ]
  },
  {
   "cell_type": "code",
   "execution_count": 11,
   "id": "ce8e91cf-33bb-4d49-8f99-8a6fe2d090fe",
   "metadata": {},
   "outputs": [],
   "source": [
    "def clean_unknowns(row, column):\n",
    "    if row[column] == \"\\\\N\":\n",
    "        return None\n",
    "    else:\n",
    "        return row[column]\n",
    "\n",
    "def clean_reviews(row, column):\n",
    "    if isinstance(row[column], str) and \"K\" in row[column]:\n",
    "        # print(row[column], end=\" -> \")\n",
    "        if \".\" in row[column]:\n",
    "            # print(int(row[column][:-3]) * 1000 + int(row[column][-2]) * 100)\n",
    "            return int(row[column][:-3]) * 1000 + int(row[column][-2]) * 100\n",
    "        else:\n",
    "            # print(int(row[column][:-1]) * 1000)\n",
    "            return int(row[column][:-1]) * 1000\n",
    "    else:\n",
    "        return row[column]\n",
    "\n",
    "# Just an example of problematic data types\n",
    "# print(\"Problematic form\")\n",
    "# print(data.startYear.unique())\n",
    "# print(data.runtimeMinutes.unique())\n",
    "# print(data[\"User reviews\"].unique())\n",
    "# print(data[\"Critic reviews\"].unique())\n",
    "\n",
    "data[\"startYear\"] = data.apply(lambda row: clean_unknowns(row, \"startYear\"), axis=1)\n",
    "data[\"runtimeMinutes\"] = data.apply(lambda row: clean_unknowns(row, \"runtimeMinutes\"), axis=1)\n",
    "data[\"User reviews\"] = data.apply(lambda row: clean_reviews(row, \"User reviews\"), axis=1)\n",
    "data[\"Critic reviews\"] = data.apply(lambda row: clean_reviews(row, \"Critic reviews\"), axis=1)\n",
    "\n",
    "for column in [\"startYear\", \"runtimeMinutes\", \"User reviews\", \"Critic reviews\"]:\n",
    "    data[column] = pd.to_numeric(data[column])\n",
    "\n",
    "# print(\"Resolved form\")\n",
    "# print(data.startYear.unique())\n",
    "# print(data.runtimeMinutes.unique())\n",
    "# print(data[\"User reviews\"].unique())\n",
    "# print(data[\"Critic reviews\"].unique())"
   ]
  },
  {
   "cell_type": "code",
   "execution_count": 13,
   "id": "85ef5878-ecf4-43ec-960b-74d1ed561e1f",
   "metadata": {},
   "outputs": [
    {
     "name": "stdout",
     "output_type": "stream",
     "text": [
      "All features present:\n",
      "7896\n",
      "\n"
     ]
    }
   ],
   "source": [
    "print(\"All features present:\")\n",
    "filtered = data[[\"startYear\", \"Budget\", \"Gross worldwide\"]].dropna()  # data.dropna()\n",
    "print(len(filtered))\n",
    "print()"
   ]
  },
  {
   "cell_type": "code",
   "execution_count": 14,
   "id": "069f0419-238a-45f2-82da-bec40d1fd45c",
   "metadata": {},
   "outputs": [
    {
     "data": {
      "text/html": [
       "<style type=\"text/css\">\n",
       "#T_1bf68_row0_col0, #T_1bf68_row1_col1, #T_1bf68_row2_col2 {\n",
       "  background-color: #b40426;\n",
       "  color: #f1f1f1;\n",
       "}\n",
       "#T_1bf68_row0_col1, #T_1bf68_row0_col2, #T_1bf68_row2_col0 {\n",
       "  background-color: #3b4cc0;\n",
       "  color: #f1f1f1;\n",
       "}\n",
       "#T_1bf68_row1_col0 {\n",
       "  background-color: #4a63d3;\n",
       "  color: #f1f1f1;\n",
       "}\n",
       "#T_1bf68_row1_col2 {\n",
       "  background-color: #f4c5ad;\n",
       "  color: #000000;\n",
       "}\n",
       "#T_1bf68_row2_col1 {\n",
       "  background-color: #f2cbb7;\n",
       "  color: #000000;\n",
       "}\n",
       "</style>\n",
       "<table id=\"T_1bf68_\">\n",
       "  <thead>\n",
       "    <tr>\n",
       "      <th class=\"blank level0\" >&nbsp;</th>\n",
       "      <th class=\"col_heading level0 col0\" >startYear</th>\n",
       "      <th class=\"col_heading level0 col1\" >Budget</th>\n",
       "      <th class=\"col_heading level0 col2\" >Gross worldwide</th>\n",
       "    </tr>\n",
       "  </thead>\n",
       "  <tbody>\n",
       "    <tr>\n",
       "      <th id=\"T_1bf68_level0_row0\" class=\"row_heading level0 row0\" >startYear</th>\n",
       "      <td id=\"T_1bf68_row0_col0\" class=\"data row0 col0\" >1.000000</td>\n",
       "      <td id=\"T_1bf68_row0_col1\" class=\"data row0 col1\" >0.023486</td>\n",
       "      <td id=\"T_1bf68_row0_col2\" class=\"data row0 col2\" >-0.032499</td>\n",
       "    </tr>\n",
       "    <tr>\n",
       "      <th id=\"T_1bf68_level0_row1\" class=\"row_heading level0 row1\" >Budget</th>\n",
       "      <td id=\"T_1bf68_row1_col0\" class=\"data row1 col0\" >0.023486</td>\n",
       "      <td id=\"T_1bf68_row1_col1\" class=\"data row1 col1\" >1.000000</td>\n",
       "      <td id=\"T_1bf68_row1_col2\" class=\"data row1 col2\" >0.609708</td>\n",
       "    </tr>\n",
       "    <tr>\n",
       "      <th id=\"T_1bf68_level0_row2\" class=\"row_heading level0 row2\" >Gross worldwide</th>\n",
       "      <td id=\"T_1bf68_row2_col0\" class=\"data row2 col0\" >-0.032499</td>\n",
       "      <td id=\"T_1bf68_row2_col1\" class=\"data row2 col1\" >0.609708</td>\n",
       "      <td id=\"T_1bf68_row2_col2\" class=\"data row2 col2\" >1.000000</td>\n",
       "    </tr>\n",
       "  </tbody>\n",
       "</table>\n"
      ],
      "text/plain": [
       "<pandas.io.formats.style.Styler at 0x208a9493310>"
      ]
     },
     "execution_count": 14,
     "metadata": {},
     "output_type": "execute_result"
    }
   ],
   "source": [
    "filtered.corr().style.background_gradient(cmap='coolwarm')"
   ]
  },
  {
   "cell_type": "code",
   "execution_count": 15,
   "id": "dd775d02-eabd-4197-9d4b-e2d2f7bf6bb7",
   "metadata": {},
   "outputs": [],
   "source": [
    "# fig, ax = plt.subplots()\n",
    "\n",
    "# means = []\n",
    "# for year in [2016, 2017, 2018, 2019, 2020, 2021]:\n",
    "#     means.append(filtered[filtered.startYear == year][\"Opening weekend US & Canada\"].mean())\n",
    "\n",
    "# ax.scatter([2016, 2017, 2018, 2019, 2020, 2021], means)"
   ]
  },
  {
   "cell_type": "code",
   "execution_count": 16,
   "id": "918ee621-59fe-492d-b9af-a347f47f603b",
   "metadata": {},
   "outputs": [],
   "source": [
    "# H0: The distribution of the opening weekend incomes is the same for 2020 as for prev. years.\n",
    "# fig, ax = plt.subplots()\n",
    "# ax.hist(filtered[filtered.startYear == 2018][\"Opening weekend US & Canada\"], bins=30)"
   ]
  },
  {
   "cell_type": "code",
   "execution_count": 17,
   "id": "b972eb43-0dad-4712-9119-2ceb53d1179e",
   "metadata": {},
   "outputs": [
    {
     "name": "stdout",
     "output_type": "stream",
     "text": [
      "2000 0.45410628019323673\n",
      "2001 0.4681818181818182\n",
      "2002 0.4496124031007752\n",
      "2003 0.4034334763948498\n",
      "2004 0.42911877394636017\n",
      "2005 0.4432234432234432\n",
      "2006 0.45317220543806647\n",
      "2007 0.47435897435897434\n",
      "2008 0.45302013422818793\n",
      "2009 0.46258503401360546\n",
      "2010 0.4028268551236749\n",
      "2011 0.4139072847682119\n",
      "2012 0.46875\n",
      "2013 0.43666666666666665\n",
      "2014 0.4218181818181818\n",
      "2015 0.39097744360902253\n",
      "2016 0.3435114503816794\n",
      "2017 0.30985915492957744\n",
      "2018 0.2932692307692308\n",
      "2019 0.2484076433121019\n",
      "2020 0.5882352941176471\n",
      "2021 0.37777777777777777\n"
     ]
    }
   ],
   "source": [
    "for year in range(2000, 2022):\n",
    "    print(year, len(filtered[(filtered[\"startYear\"] == year) & (filtered[\"Budget\"] > filtered[\"Gross worldwide\"])]) / len(filtered[filtered[\"startYear\"] == year]))"
   ]
  },
  {
   "cell_type": "code",
   "execution_count": 24,
   "id": "271ae925-73bc-4d26-b23d-1084b79e11ee",
   "metadata": {},
   "outputs": [
    {
     "data": {
      "text/plain": [
       "<matplotlib.lines.Line2D at 0x208a6607ee0>"
      ]
     },
     "execution_count": 24,
     "metadata": {},
     "output_type": "execute_result"
    },
    {
     "data": {
      "image/png": "[encoded data removed]",
      "text/plain": [
       "<Figure size 432x432 with 1 Axes>"
      ]
     },
     "metadata": {
      "needs_background": "light"
     },
     "output_type": "display_data"
    }
   ],
   "source": [
    "from scipy.stats import betabinom\n",
    "# Bonferroni correction\n",
    "n_1 = len(filtered[filtered[\"startYear\"] == 2020])\n",
    "m_0 = len(filtered[(filtered[\"startYear\"] < 2020) & (filtered[\"Budget\"] > filtered[\"Gross worldwide\"])])\n",
    "n_0 = len(filtered[filtered[\"startYear\"] < 2020])\n",
    "p = betabinom(n_1, m_0 + 1, n_0 - m_0 + 1)\n",
    "p = betabinom(N_t, m_c + 1, N_c - m_c + 1)\n",
    "          \n",
    "mm_1 = np.arange(N_t)\n",
    "\n",
    "fig, ax = plt.subplots(1, 1, figsize=(6, 6))\n",
    "ax.set_title(f\"$N_t = {n_1}, m_c = {m_0}, N_c = {n_0}$\")\n",
    "ax.vlines(mm_1, 0, p.pmf(mm_1))\n",
    "ax.axvline(len(filtered[(filtered[\"startYear\"] == 2020) & (filtered[\"Budget\"] > filtered[\"Gross worldwide\"])]))\n",
    "print(1 - betabinom.cdf(30 - 1, n_1, m_0 + 1, n_0 - m_0 + 1))"
   ]
  },
  {
   "cell_type": "code",
   "execution_count": 29,
   "id": "c16acf79-d8ad-4020-b363-e08f7b3f723b",
   "metadata": {},
   "outputs": [
    {
     "name": "stdout",
     "output_type": "stream",
     "text": [
      "0.00014672769183932122\n"
     ]
    },
    {
     "data": {
      "image/png": "[encoded data removed]",
      "text/plain": [
       "<Figure size 432x432 with 1 Axes>"
      ]
     },
     "metadata": {
      "needs_background": "light"
     },
     "output_type": "display_data"
    }
   ],
   "source": [
    "from scipy.stats import betabinom\n",
    "# Bonferroni correction\n",
    "n_1 = len(filtered[filtered[\"startYear\"] == 2020])\n",
    "m_0 = len(filtered[(filtered[\"startYear\"].between(2015, 2019)) & (filtered[\"Budget\"] > filtered[\"Gross worldwide\"])])\n",
    "n_0 = len(filtered[filtered[\"startYear\"].between(2015, 2019)])\n",
    "p = betabinom(n_1, m_0 + 1, n_0 - m_0 + 1)\n",
    "p = betabinom(N_t, m_c + 1, N_c - m_c + 1)\n",
    "\n",
    "mm_1 = np.arange(N_t)\n",
    "\n",
    "fig, ax = plt.subplots(1, 1, figsize=(6, 6))\n",
    "ax.set_title(f\"$N_t = {n_1}, m_c = {m_0}, N_c = {n_0}$\")\n",
    "ax.vlines(mm_1, 0, p.pmf(mm_1))\n",
    "ax.axvline(len(filtered[(filtered[\"startYear\"] == 2020) & (filtered[\"Budget\"] > filtered[\"Gross worldwide\"])]))\n",
    "print(1 - betabinom.cdf(30 - 1, n_1, m_0 + 1, n_0 - m_0 + 1))"
   ]
  },
  {
   "cell_type": "code",
   "execution_count": null,
   "id": "3b6f18ad-47b5-4a06-a873-409a23e0e7e8",
   "metadata": {},
   "outputs": [],
   "source": [
    "from scipy.stats import betabinom\n",
    "# Bonferroni correction\n",
    "n_1 = len(filtered[filtered[\"startYear\"] == 2020])\n",
    "m_0 = len(filtered[(filtered[\"startYear\"].between(2015, 2019)) & (filtered[\"Budget\"] > filtered[\"Gross worldwide\"])])\n",
    "n_0 = len(filtered[filtered[\"startYear\"].between(2015, 2019)])\n",
    "p = betabinom(n_1, m_0 + 1, n_0 - m_0 + 1)\n",
    "p = betabinom(N_t, m_c + 1, N_c - m_c + 1)\n",
    "\n",
    "mm_1 = np.arange(N_t)\n",
    "\n",
    "fig, ax = plt.subplots(1, 1, figsize=(6, 6))\n",
    "ax.set_title(f\"$N_t = {n_1}, m_c = {m_0}, N_c = {n_0}$\")\n",
    "ax.vlines(mm_1, 0, p.pmf(mm_1))\n",
    "ax.axvline(len(filtered[(filtered[\"startYear\"] == 2020) & (filtered[\"Budget\"] > filtered[\"Gross worldwide\"])]))\n",
    "print(1 - betabinom.cdf(30 - 1, n_1, m_0 + 1, n_0 - m_0 + 1))"
   ]
  }
 ],
 "metadata": {
  "kernelspec": {
   "display_name": "Python 3 (ipykernel)",
   "language": "python",
   "name": "python3"
  },
  "language_info": {
   "codemirror_mode": {
    "name": "ipython",
    "version": 3
   },
   "file_extension": ".py",
   "mimetype": "text/x-python",
   "name": "python",
   "nbconvert_exporter": "python",
   "pygments_lexer": "ipython3",
   "version": "3.9.7"
  }
 },
 "nbformat": 4,
 "nbformat_minor": 5
}
