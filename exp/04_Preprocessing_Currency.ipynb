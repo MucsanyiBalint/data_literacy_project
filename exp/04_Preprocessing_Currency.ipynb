{
 "cells": [
  {
   "cell_type": "code",
   "execution_count": 4,
   "id": "6df1b46b",
   "metadata": {},
   "outputs": [],
   "source": [
    "import numpy as np\n",
    "import pandas as pd\n",
    "import re\n",
    "import sys\n",
    "sys.path.insert(0, \"../src/\")\n",
    "from currency_conversion import convert_column"
   ]
  },
  {
   "cell_type": "code",
   "execution_count": 5,
   "id": "85bbe9ec",
   "metadata": {},
   "outputs": [
    {
     "name": "stderr",
     "output_type": "stream",
     "text": [
      "/home/daniel/.local/lib/python3.8/site-packages/IPython/core/interactiveshell.py:3169: DtypeWarning: Columns (5,16) have mixed types.Specify dtype option on import or set low_memory=False.\n",
      "  has_raised = await self.run_ast_nodes(code_ast.body, cell_name,\n"
     ]
    },
    {
     "name": "stdout",
     "output_type": "stream",
     "text": [
      "<class 'pandas.core.frame.DataFrame'>\n",
      "RangeIndex: 273543 entries, 0 to 273542\n",
      "Data columns (total 20 columns):\n",
      " #   Column                       Non-Null Count   Dtype  \n",
      "---  ------                       --------------   -----  \n",
      " 0   tconst                       273543 non-null  object \n",
      " 1   titleType                    273543 non-null  object \n",
      " 2   primaryTitle                 273543 non-null  object \n",
      " 3   originalTitle                273543 non-null  object \n",
      " 4   isAdult                      273543 non-null  int64  \n",
      " 5   startYear                    273543 non-null  object \n",
      " 6   endYear                      273543 non-null  object \n",
      " 7   runtimeMinutes               273543 non-null  object \n",
      " 8   genres                       273543 non-null  object \n",
      " 9   averageRating                273543 non-null  float64\n",
      " 10  numVotes                     273543 non-null  int64  \n",
      " 11  Budget                       53231 non-null   object \n",
      " 12  Gross US & Canada            18983 non-null   object \n",
      " 13  Opening weekend US & Canada  16112 non-null   object \n",
      " 14  Gross worldwide              45007 non-null   object \n",
      " 15  Rating                       82925 non-null   object \n",
      " 16  Critic reviews               89561 non-null   object \n",
      " 17  User reviews                 114165 non-null  object \n",
      " 18  directors                    273543 non-null  object \n",
      " 19  writers                      273543 non-null  object \n",
      "dtypes: float64(1), int64(2), object(17)\n",
      "memory usage: 41.7+ MB\n"
     ]
    }
   ],
   "source": [
    "df = pd.read_csv(\"../dat/raw_data.csv\")\n",
    "\n",
    "df.info()"
   ]
  },
  {
   "cell_type": "code",
   "execution_count": null,
   "id": "b5858329",
   "metadata": {},
   "outputs": [],
   "source": []
  },
  {
   "cell_type": "code",
   "execution_count": 6,
   "id": "a9b609fc",
   "metadata": {},
   "outputs": [],
   "source": [
    "df = convert_column(df, \"Budget\")"
   ]
  },
  {
   "cell_type": "code",
   "execution_count": 7,
   "id": "fa0e7521",
   "metadata": {},
   "outputs": [],
   "source": [
    "df = convert_column(df, \"Gross US & Canada\")"
   ]
  },
  {
   "cell_type": "code",
   "execution_count": 8,
   "id": "e4702bd2",
   "metadata": {},
   "outputs": [],
   "source": [
    "df = convert_column(df, \"Opening weekend US & Canada\")"
   ]
  },
  {
   "cell_type": "code",
   "execution_count": 9,
   "id": "fb68da3f",
   "metadata": {},
   "outputs": [],
   "source": [
    "df = convert_column(df, \"Gross worldwide\")"
   ]
  },
  {
   "cell_type": "code",
   "execution_count": null,
   "id": "c93984a0",
   "metadata": {},
   "outputs": [],
   "source": [
    "df"
   ]
  },
  {
   "cell_type": "code",
   "execution_count": 10,
   "id": "1c5ac759",
   "metadata": {},
   "outputs": [
    {
     "name": "stdout",
     "output_type": "stream",
     "text": [
      "saved dataframe sucesfully!\n"
     ]
    }
   ],
   "source": [
    "df.to_csv(\"../dat/data_clean_new.csv\", index=False)\n",
    "print(\"saved dataframe sucesfully!\")"
   ]
  },
  {
   "cell_type": "code",
   "execution_count": null,
   "id": "73ccbf9c",
   "metadata": {},
   "outputs": [],
   "source": []
  }
 ],
 "metadata": {
  "kernelspec": {
   "display_name": "Python 3 (ipykernel)",
   "language": "python",
   "name": "python3"
  },
  "language_info": {
   "codemirror_mode": {
    "name": "ipython",
    "version": 3
   },
   "file_extension": ".py",
   "mimetype": "text/x-python",
   "name": "python",
   "nbconvert_exporter": "python",
   "pygments_lexer": "ipython3",
   "version": "3.9.7"
  }
 },
 "nbformat": 4,
 "nbformat_minor": 5
}
