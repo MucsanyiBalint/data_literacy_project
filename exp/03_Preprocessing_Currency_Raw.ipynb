{
 "cells": [
  {
   "cell_type": "code",
   "execution_count": 1,
   "id": "935d994c",
   "metadata": {},
   "outputs": [],
   "source": [
    "import numpy as np\n",
    "import pandas as pd\n",
    "import re\n",
    "from currency_converter import CurrencyConverter"
   ]
  },
  {
   "cell_type": "code",
   "execution_count": 2,
   "id": "720890d0",
   "metadata": {},
   "outputs": [
    {
     "name": "stderr",
     "output_type": "stream",
     "text": [
      "/home/daniel/.local/lib/python3.8/site-packages/IPython/core/interactiveshell.py:3169: DtypeWarning: Columns (5,17) have mixed types.Specify dtype option on import or set low_memory=False.\n",
      "  has_raised = await self.run_ast_nodes(code_ast.body, cell_name,\n"
     ]
    }
   ],
   "source": [
    "df = pd.read_csv(\"../dat/raw_data.csv\")"
   ]
  },
  {
   "cell_type": "code",
   "execution_count": 10,
   "id": "50224491",
   "metadata": {},
   "outputs": [],
   "source": [
    "df.iloc[df.averageRating < 6] = np.nan"
   ]
  },
  {
   "cell_type": "code",
   "execution_count": 22,
   "id": "9bf7863f",
   "metadata": {},
   "outputs": [
    {
     "name": "stderr",
     "output_type": "stream",
     "text": [
      "/home/daniel/.local/lib/python3.8/site-packages/pandas/core/indexing.py:1676: SettingWithCopyWarning: \n",
      "A value is trying to be set on a copy of a slice from a DataFrame.\n",
      "Try using .loc[row_indexer,col_indexer] = value instead\n",
      "\n",
      "See the caveats in the documentation: https://pandas.pydata.org/pandas-docs/stable/user_guide/indexing.html#returning-a-view-versus-a-copy\n",
      "  self._setitem_single_column(ilocs[0], value, pi)\n"
     ]
    }
   ],
   "source": [
    "short = df[-100:]\n",
    "zeros = np.zeros(len(short))\n",
    "short.loc[:,\"endYear\"] = zeros"
   ]
  },
  {
   "cell_type": "code",
   "execution_count": 23,
   "id": "72873fe3",
   "metadata": {},
   "outputs": [
    {
     "data": {
      "text/html": [
       "<div>\n",
       "<style scoped>\n",
       "    .dataframe tbody tr th:only-of-type {\n",
       "        vertical-align: middle;\n",
       "    }\n",
       "\n",
       "    .dataframe tbody tr th {\n",
       "        vertical-align: top;\n",
       "    }\n",
       "\n",
       "    .dataframe thead th {\n",
       "        text-align: right;\n",
       "    }\n",
       "</style>\n",
       "<table border=\"1\" class=\"dataframe\">\n",
       "  <thead>\n",
       "    <tr style=\"text-align: right;\">\n",
       "      <th></th>\n",
       "      <th>tconst</th>\n",
       "      <th>titleType</th>\n",
       "      <th>primaryTitle</th>\n",
       "      <th>originalTitle</th>\n",
       "      <th>isAdult</th>\n",
       "      <th>startYear</th>\n",
       "      <th>endYear</th>\n",
       "      <th>runtimeMinutes</th>\n",
       "      <th>genres</th>\n",
       "      <th>averageRating</th>\n",
       "      <th>numVotes</th>\n",
       "      <th>Budget</th>\n",
       "      <th>Gross US &amp; Canada</th>\n",
       "      <th>Opening weekend US &amp; Canada</th>\n",
       "      <th>Gross worldwide</th>\n",
       "      <th>Rating</th>\n",
       "      <th>User reviews</th>\n",
       "      <th>Critic reviews</th>\n",
       "      <th>directors</th>\n",
       "      <th>writers</th>\n",
       "    </tr>\n",
       "  </thead>\n",
       "  <tbody>\n",
       "    <tr>\n",
       "      <th>110055</th>\n",
       "      <td>NaN</td>\n",
       "      <td>movie</td>\n",
       "      <td>Charter</td>\n",
       "      <td>Charter</td>\n",
       "      <td>0.0</td>\n",
       "      <td>2020</td>\n",
       "      <td>0.0</td>\n",
       "      <td>94</td>\n",
       "      <td>Drama</td>\n",
       "      <td>0.0</td>\n",
       "      <td>1117.0</td>\n",
       "      <td>NaN</td>\n",
       "      <td>NaN</td>\n",
       "      <td>NaN</td>\n",
       "      <td>NaN</td>\n",
       "      <td>NaN</td>\n",
       "      <td>7</td>\n",
       "      <td>18.0</td>\n",
       "      <td>nm1840544</td>\n",
       "      <td>nm1840544</td>\n",
       "    </tr>\n",
       "    <tr>\n",
       "      <th>110056</th>\n",
       "      <td>NaN</td>\n",
       "      <td>movie</td>\n",
       "      <td>Children of the Sea</td>\n",
       "      <td>Kaijû no kodomo</td>\n",
       "      <td>0.0</td>\n",
       "      <td>2019</td>\n",
       "      <td>0.0</td>\n",
       "      <td>111</td>\n",
       "      <td>Adventure,Animation,Drama</td>\n",
       "      <td>0.0</td>\n",
       "      <td>2482.0</td>\n",
       "      <td>NaN</td>\n",
       "      <td>NaN</td>\n",
       "      <td>NaN</td>\n",
       "      <td>$5,092,603</td>\n",
       "      <td>Not Rated</td>\n",
       "      <td>23</td>\n",
       "      <td>46.0</td>\n",
       "      <td>nm2268014</td>\n",
       "      <td>nm6226680,nm11218783</td>\n",
       "    </tr>\n",
       "    <tr>\n",
       "      <th>110057</th>\n",
       "      <td>NaN</td>\n",
       "      <td>movie</td>\n",
       "      <td>Paradise War: The Story of Bruno Manser</td>\n",
       "      <td>Bruno Manser - Die Stimme des Regenwaldes</td>\n",
       "      <td>0.0</td>\n",
       "      <td>2019</td>\n",
       "      <td>0.0</td>\n",
       "      <td>142</td>\n",
       "      <td>Adventure,Biography,Drama</td>\n",
       "      <td>0.0</td>\n",
       "      <td>368.0</td>\n",
       "      <td>NaN</td>\n",
       "      <td>NaN</td>\n",
       "      <td>NaN</td>\n",
       "      <td>NaN</td>\n",
       "      <td>NaN</td>\n",
       "      <td>5.0</td>\n",
       "      <td>10.0</td>\n",
       "      <td>nm1305198</td>\n",
       "      <td>nm9503680,nm1305198,nm0865453</td>\n",
       "    </tr>\n",
       "    <tr>\n",
       "      <th>110058</th>\n",
       "      <td>NaN</td>\n",
       "      <td>NaN</td>\n",
       "      <td>NaN</td>\n",
       "      <td>NaN</td>\n",
       "      <td>NaN</td>\n",
       "      <td>NaN</td>\n",
       "      <td>0.0</td>\n",
       "      <td>NaN</td>\n",
       "      <td>NaN</td>\n",
       "      <td>0.0</td>\n",
       "      <td>NaN</td>\n",
       "      <td>NaN</td>\n",
       "      <td>NaN</td>\n",
       "      <td>NaN</td>\n",
       "      <td>NaN</td>\n",
       "      <td>NaN</td>\n",
       "      <td>NaN</td>\n",
       "      <td>NaN</td>\n",
       "      <td>NaN</td>\n",
       "      <td>NaN</td>\n",
       "    </tr>\n",
       "    <tr>\n",
       "      <th>110059</th>\n",
       "      <td>NaN</td>\n",
       "      <td>movie</td>\n",
       "      <td>#Anne Frank Parallel Stories</td>\n",
       "      <td>#AnneFrank - Parallel Stories</td>\n",
       "      <td>0.0</td>\n",
       "      <td>2019</td>\n",
       "      <td>0.0</td>\n",
       "      <td>92</td>\n",
       "      <td>Drama,History</td>\n",
       "      <td>0.0</td>\n",
       "      <td>1411.0</td>\n",
       "      <td>NaN</td>\n",
       "      <td>NaN</td>\n",
       "      <td>NaN</td>\n",
       "      <td>$327,285</td>\n",
       "      <td>NaN</td>\n",
       "      <td>34</td>\n",
       "      <td>10.0</td>\n",
       "      <td>nm10509355,nm9921790</td>\n",
       "      <td>\\N</td>\n",
       "    </tr>\n",
       "    <tr>\n",
       "      <th>...</th>\n",
       "      <td>...</td>\n",
       "      <td>...</td>\n",
       "      <td>...</td>\n",
       "      <td>...</td>\n",
       "      <td>...</td>\n",
       "      <td>...</td>\n",
       "      <td>...</td>\n",
       "      <td>...</td>\n",
       "      <td>...</td>\n",
       "      <td>...</td>\n",
       "      <td>...</td>\n",
       "      <td>...</td>\n",
       "      <td>...</td>\n",
       "      <td>...</td>\n",
       "      <td>...</td>\n",
       "      <td>...</td>\n",
       "      <td>...</td>\n",
       "      <td>...</td>\n",
       "      <td>...</td>\n",
       "      <td>...</td>\n",
       "    </tr>\n",
       "    <tr>\n",
       "      <th>110150</th>\n",
       "      <td>NaN</td>\n",
       "      <td>movie</td>\n",
       "      <td>Sokagin Çocuklari</td>\n",
       "      <td>Sokagin Çocuklari</td>\n",
       "      <td>0.0</td>\n",
       "      <td>2019</td>\n",
       "      <td>0.0</td>\n",
       "      <td>98</td>\n",
       "      <td>Drama,Family</td>\n",
       "      <td>0.0</td>\n",
       "      <td>218.0</td>\n",
       "      <td>NaN</td>\n",
       "      <td>NaN</td>\n",
       "      <td>NaN</td>\n",
       "      <td>$2,833</td>\n",
       "      <td>NaN</td>\n",
       "      <td>NaN</td>\n",
       "      <td>NaN</td>\n",
       "      <td>nm1832009</td>\n",
       "      <td>nm1832009,nm1902682</td>\n",
       "    </tr>\n",
       "    <tr>\n",
       "      <th>110151</th>\n",
       "      <td>NaN</td>\n",
       "      <td>movie</td>\n",
       "      <td>Life Without Sara Amat</td>\n",
       "      <td>La vida sense la Sara Amat</td>\n",
       "      <td>0.0</td>\n",
       "      <td>2019</td>\n",
       "      <td>0.0</td>\n",
       "      <td>74</td>\n",
       "      <td>Drama</td>\n",
       "      <td>0.0</td>\n",
       "      <td>137.0</td>\n",
       "      <td>NaN</td>\n",
       "      <td>NaN</td>\n",
       "      <td>NaN</td>\n",
       "      <td>$59,794</td>\n",
       "      <td>NaN</td>\n",
       "      <td>NaN</td>\n",
       "      <td>NaN</td>\n",
       "      <td>nm1716653</td>\n",
       "      <td>nm3678448,nm9361716</td>\n",
       "    </tr>\n",
       "    <tr>\n",
       "      <th>110152</th>\n",
       "      <td>NaN</td>\n",
       "      <td>NaN</td>\n",
       "      <td>NaN</td>\n",
       "      <td>NaN</td>\n",
       "      <td>NaN</td>\n",
       "      <td>NaN</td>\n",
       "      <td>0.0</td>\n",
       "      <td>NaN</td>\n",
       "      <td>NaN</td>\n",
       "      <td>0.0</td>\n",
       "      <td>NaN</td>\n",
       "      <td>NaN</td>\n",
       "      <td>NaN</td>\n",
       "      <td>NaN</td>\n",
       "      <td>NaN</td>\n",
       "      <td>NaN</td>\n",
       "      <td>NaN</td>\n",
       "      <td>NaN</td>\n",
       "      <td>NaN</td>\n",
       "      <td>NaN</td>\n",
       "    </tr>\n",
       "    <tr>\n",
       "      <th>110153</th>\n",
       "      <td>NaN</td>\n",
       "      <td>NaN</td>\n",
       "      <td>NaN</td>\n",
       "      <td>NaN</td>\n",
       "      <td>NaN</td>\n",
       "      <td>NaN</td>\n",
       "      <td>0.0</td>\n",
       "      <td>NaN</td>\n",
       "      <td>NaN</td>\n",
       "      <td>0.0</td>\n",
       "      <td>NaN</td>\n",
       "      <td>NaN</td>\n",
       "      <td>NaN</td>\n",
       "      <td>NaN</td>\n",
       "      <td>NaN</td>\n",
       "      <td>NaN</td>\n",
       "      <td>NaN</td>\n",
       "      <td>NaN</td>\n",
       "      <td>NaN</td>\n",
       "      <td>NaN</td>\n",
       "    </tr>\n",
       "    <tr>\n",
       "      <th>110154</th>\n",
       "      <td>NaN</td>\n",
       "      <td>movie</td>\n",
       "      <td>Coven</td>\n",
       "      <td>Akelarre</td>\n",
       "      <td>0.0</td>\n",
       "      <td>2020</td>\n",
       "      <td>0.0</td>\n",
       "      <td>92</td>\n",
       "      <td>Drama,History</td>\n",
       "      <td>0.0</td>\n",
       "      <td>4271.0</td>\n",
       "      <td>€2,500,000 (estimated)</td>\n",
       "      <td>NaN</td>\n",
       "      <td>NaN</td>\n",
       "      <td>$317,907</td>\n",
       "      <td>TV-MA</td>\n",
       "      <td>36</td>\n",
       "      <td>28.0</td>\n",
       "      <td>nm1893148</td>\n",
       "      <td>nm1893148,nm3471432</td>\n",
       "    </tr>\n",
       "  </tbody>\n",
       "</table>\n",
       "<p>100 rows × 20 columns</p>\n",
       "</div>"
      ],
      "text/plain": [
       "       tconst titleType                             primaryTitle  \\\n",
       "110055    NaN     movie                                  Charter   \n",
       "110056    NaN     movie                      Children of the Sea   \n",
       "110057    NaN     movie  Paradise War: The Story of Bruno Manser   \n",
       "110058    NaN       NaN                                      NaN   \n",
       "110059    NaN     movie             #Anne Frank Parallel Stories   \n",
       "...       ...       ...                                      ...   \n",
       "110150    NaN     movie                        Sokagin Çocuklari   \n",
       "110151    NaN     movie                   Life Without Sara Amat   \n",
       "110152    NaN       NaN                                      NaN   \n",
       "110153    NaN       NaN                                      NaN   \n",
       "110154    NaN     movie                                    Coven   \n",
       "\n",
       "                                    originalTitle  isAdult startYear  endYear  \\\n",
       "110055                                    Charter      0.0      2020      0.0   \n",
       "110056                            Kaijû no kodomo      0.0      2019      0.0   \n",
       "110057  Bruno Manser - Die Stimme des Regenwaldes      0.0      2019      0.0   \n",
       "110058                                        NaN      NaN       NaN      0.0   \n",
       "110059              #AnneFrank - Parallel Stories      0.0      2019      0.0   \n",
       "...                                           ...      ...       ...      ...   \n",
       "110150                          Sokagin Çocuklari      0.0      2019      0.0   \n",
       "110151                 La vida sense la Sara Amat      0.0      2019      0.0   \n",
       "110152                                        NaN      NaN       NaN      0.0   \n",
       "110153                                        NaN      NaN       NaN      0.0   \n",
       "110154                                   Akelarre      0.0      2020      0.0   \n",
       "\n",
       "       runtimeMinutes                     genres  averageRating  numVotes  \\\n",
       "110055             94                      Drama            0.0    1117.0   \n",
       "110056            111  Adventure,Animation,Drama            0.0    2482.0   \n",
       "110057            142  Adventure,Biography,Drama            0.0     368.0   \n",
       "110058            NaN                        NaN            0.0       NaN   \n",
       "110059             92              Drama,History            0.0    1411.0   \n",
       "...               ...                        ...            ...       ...   \n",
       "110150             98               Drama,Family            0.0     218.0   \n",
       "110151             74                      Drama            0.0     137.0   \n",
       "110152            NaN                        NaN            0.0       NaN   \n",
       "110153            NaN                        NaN            0.0       NaN   \n",
       "110154             92              Drama,History            0.0    4271.0   \n",
       "\n",
       "                        Budget Gross US & Canada Opening weekend US & Canada  \\\n",
       "110055                     NaN               NaN                         NaN   \n",
       "110056                     NaN               NaN                         NaN   \n",
       "110057                     NaN               NaN                         NaN   \n",
       "110058                     NaN               NaN                         NaN   \n",
       "110059                     NaN               NaN                         NaN   \n",
       "...                        ...               ...                         ...   \n",
       "110150                     NaN               NaN                         NaN   \n",
       "110151                     NaN               NaN                         NaN   \n",
       "110152                     NaN               NaN                         NaN   \n",
       "110153                     NaN               NaN                         NaN   \n",
       "110154  €2,500,000 (estimated)               NaN                         NaN   \n",
       "\n",
       "       Gross worldwide     Rating User reviews Critic reviews  \\\n",
       "110055             NaN        NaN            7           18.0   \n",
       "110056      $5,092,603  Not Rated           23           46.0   \n",
       "110057             NaN        NaN          5.0           10.0   \n",
       "110058             NaN        NaN          NaN            NaN   \n",
       "110059        $327,285        NaN           34           10.0   \n",
       "...                ...        ...          ...            ...   \n",
       "110150          $2,833        NaN          NaN            NaN   \n",
       "110151         $59,794        NaN          NaN            NaN   \n",
       "110152             NaN        NaN          NaN            NaN   \n",
       "110153             NaN        NaN          NaN            NaN   \n",
       "110154        $317,907      TV-MA           36           28.0   \n",
       "\n",
       "                   directors                        writers  \n",
       "110055             nm1840544                      nm1840544  \n",
       "110056             nm2268014           nm6226680,nm11218783  \n",
       "110057             nm1305198  nm9503680,nm1305198,nm0865453  \n",
       "110058                   NaN                            NaN  \n",
       "110059  nm10509355,nm9921790                             \\N  \n",
       "...                      ...                            ...  \n",
       "110150             nm1832009            nm1832009,nm1902682  \n",
       "110151             nm1716653            nm3678448,nm9361716  \n",
       "110152                   NaN                            NaN  \n",
       "110153                   NaN                            NaN  \n",
       "110154             nm1893148            nm1893148,nm3471432  \n",
       "\n",
       "[100 rows x 20 columns]"
      ]
     },
     "execution_count": 23,
     "metadata": {},
     "output_type": "execute_result"
    }
   ],
   "source": [
    "from IPython.display import display, HTML\n",
    "short\n",
    "#mask = (currencies == \"₹\")\n",
    "#display(HTML(df[mask].to_html()))"
   ]
  },
  {
   "cell_type": "code",
   "execution_count": 76,
   "id": "76436551",
   "metadata": {},
   "outputs": [],
   "source": [
    "budget_raw = df[\"Budget\"].to_numpy()\n",
    "currencies = np.zeros(len(budget_raw), dtype='U10')\n",
    "value = np.zeros(len(budget_raw), dtype=int)\n",
    "year = df[\"startYear\"].to_numpy()\n",
    "\n",
    "for i in range(len(budget_raw)):\n",
    "    string = budget_raw[i]\n",
    "    \n",
    "    if not pd.isna(string):\n",
    "\n",
    "        value[i] = int(\"\".join(re.findall(r'[\\d]+', string)))\n",
    "        currencies[i] = re.findall(r'[^{\\d,\\xa0}]+', string)[0]"
   ]
  },
  {
   "cell_type": "code",
   "execution_count": 77,
   "id": "10a4b093",
   "metadata": {},
   "outputs": [],
   "source": [
    "# USD\n",
    "df_usd = pd.read_csv(\"../dat/inflation_data/usd.csv\")\n",
    "np_amount = df_usd[\"amount\"].to_numpy()\n",
    "current_amount = np_amount[-1]\n",
    "\n",
    "for i in range(len(budget_raw)):\n",
    "    if currencies[i] == \"$\":\n",
    "        target_year = int(year[i]) if int(year[i]) >= 1910 else 1910\n",
    "        inflation_factor = current_amount/df_usd[df_usd.year == target_year].amount\n",
    "        currencies[i] = \"usd\"\n",
    "        value[i] = value[i] * inflation_factor\n",
    "del df_usd"
   ]
  },
  {
   "cell_type": "code",
   "execution_count": 78,
   "id": "af1158eb",
   "metadata": {},
   "outputs": [],
   "source": [
    "# EUR\n",
    "\n",
    "c = CurrencyConverter()\n",
    "\n",
    "df_eur = pd.read_csv(\"../dat/inflation_data/eur.csv\")\n",
    "np_amount = df_eur[\"amount\"].to_numpy()\n",
    "current_amount = np_amount[-1]\n",
    "\n",
    "for i in range(len(budget_raw)):\n",
    "    if currencies[i] == \"€\":\n",
    "        target_year = int(year[i]) if int(year[i]) >= 1996 else 1996\n",
    "        inflation_factor = current_amount/df_eur[df_eur.year == target_year].amount\n",
    "        value[i] = c.convert(value[i] * inflation_factor, 'EUR', 'USD')\n",
    "        currencies[i] = \"usd\"\n",
    "        \n",
    "        \n",
    "del df_eur"
   ]
  },
  {
   "cell_type": "code",
   "execution_count": 79,
   "id": "f9e5ccbc",
   "metadata": {},
   "outputs": [
    {
     "name": "stdout",
     "output_type": "stream",
     "text": [
      "Counter({'': 82075, 'usd': 22257, '₹': 1198, '£': 955, 'CA$': 787, 'A$': 320, 'SEK': 186, 'NOK': 162, 'R$': 149, 'FRF': 144, 'DEM': 139, 'FIM': 122, 'DKK': 122, 'RUR': 122, 'EGP': 96, 'IRR': 84, 'CN¥': 81, 'TRL': 81, 'HUF': 81, 'PLN': 76, '¥': 59, 'HK$': 51, 'CZK': 45, '₩': 44, 'ITL': 42, 'MX$': 42, 'ESP': 41, 'NZ$': 40, 'BDT': 37, 'MYR': 37, 'NLG': 36, 'CHF': 33, 'SGD': 33, 'IDR': 33, 'THB': 29, 'ARS': 24, 'ZAR': 22, 'ROL': 21, 'UAH': 20, 'ISK': 19, 'NT$': 19, 'PKR': 18, 'PTE': 15, 'DOP': 14, '₱': 13, '₪': 11, 'HRK': 8, 'AZM': 8, 'BEF': 7, 'NPR': 7, 'BGL': 7, 'LKR': 7, 'EEK': 6, 'RON': 6, 'COP': 5, '₫': 5, 'CLP': 4, 'VEB': 4, 'LVL': 4, 'NGN': 4, 'GEL': 4, 'SIT': 3, 'YUM': 3, 'LTL': 3, 'MNT': 3, 'ALL': 2, 'SAR': 2, 'AMD': 2, 'AED': 2, 'XAU': 1, 'PYG': 1, 'IEP': 1, 'JMD': 1, 'ATS': 1, 'BND': 1, 'GRD': 1, 'SKK': 1, 'MTL': 1, 'IQD': 1, 'TTD': 1, 'JOD': 1, 'ZWD': 1, 'MVR': 1})\n"
     ]
    }
   ],
   "source": [
    "print(Counter(list(currencies)))"
   ]
  },
  {
   "cell_type": "code",
   "execution_count": 80,
   "id": "15d57617",
   "metadata": {},
   "outputs": [],
   "source": [
    "# INR\n",
    "\n",
    "c = CurrencyConverter()\n",
    "\n",
    "df_inr = pd.read_csv(\"../dat/inflation_data/inr.csv\")\n",
    "np_amount = df_inr[\"amount\"].to_numpy()\n",
    "current_amount = np_amount[-1]\n",
    "\n",
    "for i in range(len(budget_raw)):\n",
    "    if currencies[i] == \"₹\":\n",
    "        target_year = int(year[i]) if int(year[i]) >= 1960 else 1960\n",
    "        inflation_factor = current_amount/df_inr[df_inr.year == target_year].amount\n",
    "        value[i] = c.convert(value[i] * inflation_factor, 'INR', 'USD')\n",
    "        currencies[i] = \"usd\"\n",
    "        \n",
    "        \n",
    "del df_inr"
   ]
  },
  {
   "cell_type": "code",
   "execution_count": 81,
   "id": "e553f337",
   "metadata": {},
   "outputs": [
    {
     "name": "stdout",
     "output_type": "stream",
     "text": [
      "Counter({'': 82075, 'usd': 23455, '£': 955, 'CA$': 787, 'A$': 320, 'SEK': 186, 'NOK': 162, 'R$': 149, 'FRF': 144, 'DEM': 139, 'FIM': 122, 'DKK': 122, 'RUR': 122, 'EGP': 96, 'IRR': 84, 'CN¥': 81, 'TRL': 81, 'HUF': 81, 'PLN': 76, '¥': 59, 'HK$': 51, 'CZK': 45, '₩': 44, 'ITL': 42, 'MX$': 42, 'ESP': 41, 'NZ$': 40, 'BDT': 37, 'MYR': 37, 'NLG': 36, 'CHF': 33, 'SGD': 33, 'IDR': 33, 'THB': 29, 'ARS': 24, 'ZAR': 22, 'ROL': 21, 'UAH': 20, 'ISK': 19, 'NT$': 19, 'PKR': 18, 'PTE': 15, 'DOP': 14, '₱': 13, '₪': 11, 'HRK': 8, 'AZM': 8, 'BEF': 7, 'NPR': 7, 'BGL': 7, 'LKR': 7, 'EEK': 6, 'RON': 6, 'COP': 5, '₫': 5, 'CLP': 4, 'VEB': 4, 'LVL': 4, 'NGN': 4, 'GEL': 4, 'SIT': 3, 'YUM': 3, 'LTL': 3, 'MNT': 3, 'ALL': 2, 'SAR': 2, 'AMD': 2, 'AED': 2, 'XAU': 1, 'PYG': 1, 'IEP': 1, 'JMD': 1, 'ATS': 1, 'BND': 1, 'GRD': 1, 'SKK': 1, 'MTL': 1, 'IQD': 1, 'TTD': 1, 'JOD': 1, 'ZWD': 1, 'MVR': 1})\n"
     ]
    }
   ],
   "source": [
    "print(Counter(list(currencies)))"
   ]
  },
  {
   "cell_type": "code",
   "execution_count": 82,
   "id": "5dc759b4",
   "metadata": {},
   "outputs": [],
   "source": [
    "# gbp\n",
    "\n",
    "c = CurrencyConverter()\n",
    "\n",
    "df_gbp = pd.read_csv(\"../dat/inflation_data/gbp.csv\")\n",
    "np_amount = df_gbp[\"amount\"].to_numpy()\n",
    "current_amount = np_amount[-1]\n",
    "\n",
    "for i in range(len(budget_raw)):\n",
    "    if currencies[i] == \"£\":\n",
    "        target_year = int(year[i]) if int(year[i]) >= 1910 else 1910\n",
    "        inflation_factor = current_amount/df_gbp[df_gbp.year == target_year].amount\n",
    "        value[i] = c.convert(value[i] * inflation_factor, 'GBP', 'USD')\n",
    "        currencies[i] = \"usd\"\n",
    "\n",
    "        \n",
    "del df_gbp"
   ]
  },
  {
   "cell_type": "code",
   "execution_count": 83,
   "id": "a427b758",
   "metadata": {},
   "outputs": [
    {
     "name": "stdout",
     "output_type": "stream",
     "text": [
      "Counter({'': 82075, 'usd': 24410, 'CA$': 787, 'A$': 320, 'SEK': 186, 'NOK': 162, 'R$': 149, 'FRF': 144, 'DEM': 139, 'FIM': 122, 'DKK': 122, 'RUR': 122, 'EGP': 96, 'IRR': 84, 'CN¥': 81, 'TRL': 81, 'HUF': 81, 'PLN': 76, '¥': 59, 'HK$': 51, 'CZK': 45, '₩': 44, 'ITL': 42, 'MX$': 42, 'ESP': 41, 'NZ$': 40, 'BDT': 37, 'MYR': 37, 'NLG': 36, 'CHF': 33, 'SGD': 33, 'IDR': 33, 'THB': 29, 'ARS': 24, 'ZAR': 22, 'ROL': 21, 'UAH': 20, 'ISK': 19, 'NT$': 19, 'PKR': 18, 'PTE': 15, 'DOP': 14, '₱': 13, '₪': 11, 'HRK': 8, 'AZM': 8, 'BEF': 7, 'NPR': 7, 'BGL': 7, 'LKR': 7, 'EEK': 6, 'RON': 6, 'COP': 5, '₫': 5, 'CLP': 4, 'VEB': 4, 'LVL': 4, 'NGN': 4, 'GEL': 4, 'SIT': 3, 'YUM': 3, 'LTL': 3, 'MNT': 3, 'ALL': 2, 'SAR': 2, 'AMD': 2, 'AED': 2, 'XAU': 1, 'PYG': 1, 'IEP': 1, 'JMD': 1, 'ATS': 1, 'BND': 1, 'GRD': 1, 'SKK': 1, 'MTL': 1, 'IQD': 1, 'TTD': 1, 'JOD': 1, 'ZWD': 1, 'MVR': 1})\n"
     ]
    }
   ],
   "source": [
    "print(Counter(list(currencies)))"
   ]
  },
  {
   "cell_type": "code",
   "execution_count": 84,
   "id": "609a2e48",
   "metadata": {},
   "outputs": [],
   "source": [
    "# cad\n",
    "\n",
    "c = CurrencyConverter()\n",
    "\n",
    "df_cad = pd.read_csv(\"../dat/inflation_data/cad.csv\")\n",
    "np_amount = df_cad[\"amount\"].to_numpy()\n",
    "current_amount = np_amount[-1]\n",
    "\n",
    "for i in range(len(budget_raw)):\n",
    "    if currencies[i] == \"CA$\":\n",
    "        target_year = int(year[i]) if int(year[i]) >= 1915 else 1915\n",
    "        inflation_factor = current_amount/df_cad[df_cad.year == target_year].amount\n",
    "        value[i] = c.convert(value[i] * inflation_factor, 'CAD', 'USD')\n",
    "        currencies[i] = \"usd\"\n",
    "\n",
    "        \n",
    "del df_cad"
   ]
  },
  {
   "cell_type": "code",
   "execution_count": 85,
   "id": "426a2492",
   "metadata": {},
   "outputs": [
    {
     "name": "stdout",
     "output_type": "stream",
     "text": [
      "Counter({'': 82075, 'usd': 25197, 'A$': 320, 'SEK': 186, 'NOK': 162, 'R$': 149, 'FRF': 144, 'DEM': 139, 'FIM': 122, 'DKK': 122, 'RUR': 122, 'EGP': 96, 'IRR': 84, 'CN¥': 81, 'TRL': 81, 'HUF': 81, 'PLN': 76, '¥': 59, 'HK$': 51, 'CZK': 45, '₩': 44, 'ITL': 42, 'MX$': 42, 'ESP': 41, 'NZ$': 40, 'BDT': 37, 'MYR': 37, 'NLG': 36, 'CHF': 33, 'SGD': 33, 'IDR': 33, 'THB': 29, 'ARS': 24, 'ZAR': 22, 'ROL': 21, 'UAH': 20, 'ISK': 19, 'NT$': 19, 'PKR': 18, 'PTE': 15, 'DOP': 14, '₱': 13, '₪': 11, 'HRK': 8, 'AZM': 8, 'BEF': 7, 'NPR': 7, 'BGL': 7, 'LKR': 7, 'EEK': 6, 'RON': 6, 'COP': 5, '₫': 5, 'CLP': 4, 'VEB': 4, 'LVL': 4, 'NGN': 4, 'GEL': 4, 'SIT': 3, 'YUM': 3, 'LTL': 3, 'MNT': 3, 'ALL': 2, 'SAR': 2, 'AMD': 2, 'AED': 2, 'XAU': 1, 'PYG': 1, 'IEP': 1, 'JMD': 1, 'ATS': 1, 'BND': 1, 'GRD': 1, 'SKK': 1, 'MTL': 1, 'IQD': 1, 'TTD': 1, 'JOD': 1, 'ZWD': 1, 'MVR': 1})\n"
     ]
    }
   ],
   "source": [
    "print(Counter(list(currencies)))"
   ]
  },
  {
   "cell_type": "code",
   "execution_count": 86,
   "id": "4482a91f",
   "metadata": {},
   "outputs": [],
   "source": [
    "# aud\n",
    "\n",
    "c = CurrencyConverter()\n",
    "\n",
    "df_aud = pd.read_csv(\"../dat/inflation_data/aud.csv\")\n",
    "np_amount = df_aud[\"amount\"].to_numpy()\n",
    "current_amount = np_amount[-1]\n",
    "\n",
    "for i in range(len(budget_raw)):\n",
    "    if currencies[i] == \"A$\":\n",
    "        target_year = int(year[i]) if int(year[i]) >= 1915 else 1915\n",
    "        inflation_factor = current_amount/df_aud[df_aud.year == target_year].amount\n",
    "        value[i] = c.convert(value[i] * inflation_factor, 'AUD', 'USD')\n",
    "        currencies[i] = \"usd\"\n",
    "\n",
    "        \n",
    "del df_aud"
   ]
  },
  {
   "cell_type": "code",
   "execution_count": 87,
   "id": "edbb1399",
   "metadata": {},
   "outputs": [
    {
     "name": "stdout",
     "output_type": "stream",
     "text": [
      "Counter({'': 82075, 'usd': 25517, 'SEK': 186, 'NOK': 162, 'R$': 149, 'FRF': 144, 'DEM': 139, 'FIM': 122, 'DKK': 122, 'RUR': 122, 'EGP': 96, 'IRR': 84, 'CN¥': 81, 'TRL': 81, 'HUF': 81, 'PLN': 76, '¥': 59, 'HK$': 51, 'CZK': 45, '₩': 44, 'ITL': 42, 'MX$': 42, 'ESP': 41, 'NZ$': 40, 'BDT': 37, 'MYR': 37, 'NLG': 36, 'CHF': 33, 'SGD': 33, 'IDR': 33, 'THB': 29, 'ARS': 24, 'ZAR': 22, 'ROL': 21, 'UAH': 20, 'ISK': 19, 'NT$': 19, 'PKR': 18, 'PTE': 15, 'DOP': 14, '₱': 13, '₪': 11, 'HRK': 8, 'AZM': 8, 'BEF': 7, 'NPR': 7, 'BGL': 7, 'LKR': 7, 'EEK': 6, 'RON': 6, 'COP': 5, '₫': 5, 'CLP': 4, 'VEB': 4, 'LVL': 4, 'NGN': 4, 'GEL': 4, 'SIT': 3, 'YUM': 3, 'LTL': 3, 'MNT': 3, 'ALL': 2, 'SAR': 2, 'AMD': 2, 'AED': 2, 'XAU': 1, 'PYG': 1, 'IEP': 1, 'JMD': 1, 'ATS': 1, 'BND': 1, 'GRD': 1, 'SKK': 1, 'MTL': 1, 'IQD': 1, 'TTD': 1, 'JOD': 1, 'ZWD': 1, 'MVR': 1})\n"
     ]
    }
   ],
   "source": [
    "print(Counter(list(currencies)))"
   ]
  },
  {
   "cell_type": "code",
   "execution_count": 88,
   "id": "a3090706",
   "metadata": {},
   "outputs": [],
   "source": [
    "# sek\n",
    "\n",
    "c = CurrencyConverter()\n",
    "\n",
    "df_sek = pd.read_csv(\"../dat/inflation_data/sek.csv\")\n",
    "np_amount = df_sek[\"amount\"].to_numpy()\n",
    "current_amount = np_amount[-1]\n",
    "\n",
    "for i in range(len(budget_raw)):\n",
    "    if currencies[i] == \"SEK\":\n",
    "        target_year = int(year[i]) if int(year[i]) >= 1960 else 1960\n",
    "        inflation_factor = current_amount/df_sek[df_sek.year == target_year].amount\n",
    "        value[i] = c.convert(value[i] * inflation_factor, 'SEK', 'USD')\n",
    "        currencies[i] = \"usd\"\n",
    "\n",
    "        \n",
    "del df_sek"
   ]
  },
  {
   "cell_type": "code",
   "execution_count": 89,
   "id": "35fe1819",
   "metadata": {},
   "outputs": [
    {
     "name": "stdout",
     "output_type": "stream",
     "text": [
      "Counter({'': 82075, 'usd': 25703, 'NOK': 162, 'R$': 149, 'FRF': 144, 'DEM': 139, 'FIM': 122, 'DKK': 122, 'RUR': 122, 'EGP': 96, 'IRR': 84, 'CN¥': 81, 'TRL': 81, 'HUF': 81, 'PLN': 76, '¥': 59, 'HK$': 51, 'CZK': 45, '₩': 44, 'ITL': 42, 'MX$': 42, 'ESP': 41, 'NZ$': 40, 'BDT': 37, 'MYR': 37, 'NLG': 36, 'CHF': 33, 'SGD': 33, 'IDR': 33, 'THB': 29, 'ARS': 24, 'ZAR': 22, 'ROL': 21, 'UAH': 20, 'ISK': 19, 'NT$': 19, 'PKR': 18, 'PTE': 15, 'DOP': 14, '₱': 13, '₪': 11, 'HRK': 8, 'AZM': 8, 'BEF': 7, 'NPR': 7, 'BGL': 7, 'LKR': 7, 'EEK': 6, 'RON': 6, 'COP': 5, '₫': 5, 'CLP': 4, 'VEB': 4, 'LVL': 4, 'NGN': 4, 'GEL': 4, 'SIT': 3, 'YUM': 3, 'LTL': 3, 'MNT': 3, 'ALL': 2, 'SAR': 2, 'AMD': 2, 'AED': 2, 'XAU': 1, 'PYG': 1, 'IEP': 1, 'JMD': 1, 'ATS': 1, 'BND': 1, 'GRD': 1, 'SKK': 1, 'MTL': 1, 'IQD': 1, 'TTD': 1, 'JOD': 1, 'ZWD': 1, 'MVR': 1})\n"
     ]
    }
   ],
   "source": [
    "print(Counter(list(currencies)))"
   ]
  },
  {
   "cell_type": "code",
   "execution_count": 90,
   "id": "5dbeda5f",
   "metadata": {},
   "outputs": [],
   "source": [
    "# nok\n",
    "\n",
    "c = CurrencyConverter()\n",
    "\n",
    "df_nok = pd.read_csv(\"../dat/inflation_data/nok.csv\")\n",
    "np_amount = df_nok[\"amount\"].to_numpy()\n",
    "current_amount = np_amount[-1]\n",
    "\n",
    "for i in range(len(budget_raw)):\n",
    "    if currencies[i] == \"NOK\":\n",
    "        target_year = int(year[i]) if int(year[i]) >= 1960 else 1960\n",
    "        inflation_factor = current_amount/df_nok[df_nok.year == target_year].amount\n",
    "        value[i] = c.convert(value[i] * inflation_factor, 'NOK', 'USD')\n",
    "        currencies[i] = \"usd\"\n",
    "\n",
    "        \n",
    "del df_nok"
   ]
  },
  {
   "cell_type": "code",
   "execution_count": 91,
   "id": "ca527c0e",
   "metadata": {},
   "outputs": [
    {
     "name": "stdout",
     "output_type": "stream",
     "text": [
      "Counter({'': 82075, 'usd': 25865, 'R$': 149, 'FRF': 144, 'DEM': 139, 'FIM': 122, 'DKK': 122, 'RUR': 122, 'EGP': 96, 'IRR': 84, 'CN¥': 81, 'TRL': 81, 'HUF': 81, 'PLN': 76, '¥': 59, 'HK$': 51, 'CZK': 45, '₩': 44, 'ITL': 42, 'MX$': 42, 'ESP': 41, 'NZ$': 40, 'BDT': 37, 'MYR': 37, 'NLG': 36, 'CHF': 33, 'SGD': 33, 'IDR': 33, 'THB': 29, 'ARS': 24, 'ZAR': 22, 'ROL': 21, 'UAH': 20, 'ISK': 19, 'NT$': 19, 'PKR': 18, 'PTE': 15, 'DOP': 14, '₱': 13, '₪': 11, 'HRK': 8, 'AZM': 8, 'BEF': 7, 'NPR': 7, 'BGL': 7, 'LKR': 7, 'EEK': 6, 'RON': 6, 'COP': 5, '₫': 5, 'CLP': 4, 'VEB': 4, 'LVL': 4, 'NGN': 4, 'GEL': 4, 'SIT': 3, 'YUM': 3, 'LTL': 3, 'MNT': 3, 'ALL': 2, 'SAR': 2, 'AMD': 2, 'AED': 2, 'XAU': 1, 'PYG': 1, 'IEP': 1, 'JMD': 1, 'ATS': 1, 'BND': 1, 'GRD': 1, 'SKK': 1, 'MTL': 1, 'IQD': 1, 'TTD': 1, 'JOD': 1, 'ZWD': 1, 'MVR': 1})\n"
     ]
    }
   ],
   "source": [
    "print(Counter(list(currencies)))"
   ]
  },
  {
   "cell_type": "code",
   "execution_count": 92,
   "id": "dbaa3f85",
   "metadata": {},
   "outputs": [
    {
     "name": "stdout",
     "output_type": "stream",
     "text": [
      "Counter({'': 82075, 'usd': 26014, 'FRF': 144, 'DEM': 139, 'FIM': 122, 'DKK': 122, 'RUR': 122, 'EGP': 96, 'IRR': 84, 'CN¥': 81, 'TRL': 81, 'HUF': 81, 'PLN': 76, '¥': 59, 'HK$': 51, 'CZK': 45, '₩': 44, 'ITL': 42, 'MX$': 42, 'ESP': 41, 'NZ$': 40, 'BDT': 37, 'MYR': 37, 'NLG': 36, 'CHF': 33, 'SGD': 33, 'IDR': 33, 'THB': 29, 'ARS': 24, 'ZAR': 22, 'ROL': 21, 'UAH': 20, 'ISK': 19, 'NT$': 19, 'PKR': 18, 'PTE': 15, 'DOP': 14, '₱': 13, '₪': 11, 'HRK': 8, 'AZM': 8, 'BEF': 7, 'NPR': 7, 'BGL': 7, 'LKR': 7, 'EEK': 6, 'RON': 6, 'COP': 5, '₫': 5, 'CLP': 4, 'VEB': 4, 'LVL': 4, 'NGN': 4, 'GEL': 4, 'SIT': 3, 'YUM': 3, 'LTL': 3, 'MNT': 3, 'ALL': 2, 'SAR': 2, 'AMD': 2, 'AED': 2, 'XAU': 1, 'PYG': 1, 'IEP': 1, 'JMD': 1, 'ATS': 1, 'BND': 1, 'GRD': 1, 'SKK': 1, 'MTL': 1, 'IQD': 1, 'TTD': 1, 'JOD': 1, 'ZWD': 1, 'MVR': 1})\n"
     ]
    }
   ],
   "source": [
    "# zar\n",
    "\n",
    "c = CurrencyConverter()\n",
    "\n",
    "df_zar = pd.read_csv(\"../dat/inflation_data/zar.csv\")\n",
    "np_amount = df_zar[\"amount\"].to_numpy()\n",
    "current_amount = np_amount[-1]\n",
    "\n",
    "for i in range(len(budget_raw)):\n",
    "    if currencies[i] == \"R$\":\n",
    "        target_year = int(year[i]) if int(year[i]) >= 1960 else 1960\n",
    "        inflation_factor = current_amount/df_zar[df_zar.year == target_year].amount\n",
    "        value[i] = c.convert(value[i] * inflation_factor, 'ZAR', 'USD')\n",
    "        currencies[i] = \"usd\"\n",
    "\n",
    "        \n",
    "del df_zar\n",
    "print(Counter(list(currencies)))"
   ]
  },
  {
   "cell_type": "code",
   "execution_count": null,
   "id": "40180017",
   "metadata": {},
   "outputs": [],
   "source": []
  },
  {
   "cell_type": "code",
   "execution_count": 93,
   "id": "e58ec27e",
   "metadata": {},
   "outputs": [
    {
     "name": "stdout",
     "output_type": "stream",
     "text": [
      "Counter({'': 82075, 'usd': 26136, 'FRF': 144, 'DEM': 139, 'FIM': 122, 'RUR': 122, 'EGP': 96, 'IRR': 84, 'CN¥': 81, 'TRL': 81, 'HUF': 81, 'PLN': 76, '¥': 59, 'HK$': 51, 'CZK': 45, '₩': 44, 'ITL': 42, 'MX$': 42, 'ESP': 41, 'NZ$': 40, 'BDT': 37, 'MYR': 37, 'NLG': 36, 'CHF': 33, 'SGD': 33, 'IDR': 33, 'THB': 29, 'ARS': 24, 'ZAR': 22, 'ROL': 21, 'UAH': 20, 'ISK': 19, 'NT$': 19, 'PKR': 18, 'PTE': 15, 'DOP': 14, '₱': 13, '₪': 11, 'HRK': 8, 'AZM': 8, 'BEF': 7, 'NPR': 7, 'BGL': 7, 'LKR': 7, 'EEK': 6, 'RON': 6, 'COP': 5, '₫': 5, 'CLP': 4, 'VEB': 4, 'LVL': 4, 'NGN': 4, 'GEL': 4, 'SIT': 3, 'YUM': 3, 'LTL': 3, 'MNT': 3, 'ALL': 2, 'SAR': 2, 'AMD': 2, 'AED': 2, 'XAU': 1, 'PYG': 1, 'IEP': 1, 'JMD': 1, 'ATS': 1, 'BND': 1, 'GRD': 1, 'SKK': 1, 'MTL': 1, 'IQD': 1, 'TTD': 1, 'JOD': 1, 'ZWD': 1, 'MVR': 1})\n"
     ]
    }
   ],
   "source": [
    "# dkk\n",
    "\n",
    "c = CurrencyConverter()\n",
    "\n",
    "df_dkk = pd.read_csv(\"../dat/inflation_data/dkk.csv\")\n",
    "np_amount = df_dkk[\"amount\"].to_numpy()\n",
    "current_amount = np_amount[-1]\n",
    "\n",
    "for i in range(len(budget_raw)):\n",
    "    if currencies[i] == \"DKK\":\n",
    "        target_year = int(year[i]) if int(year[i]) >= 1960 else 1960\n",
    "        inflation_factor = current_amount/df_dkk[df_dkk.year == target_year].amount\n",
    "        value[i] = c.convert(value[i] * inflation_factor, 'DKK', 'USD')\n",
    "        currencies[i] = \"usd\"\n",
    "\n",
    "        \n",
    "del df_dkk\n",
    "print(Counter(list(currencies)))"
   ]
  },
  {
   "cell_type": "code",
   "execution_count": 98,
   "id": "bd2aa81d",
   "metadata": {},
   "outputs": [
    {
     "name": "stdout",
     "output_type": "stream",
     "text": [
      "Counter({'': 82075, 'usd': 26258, 'FRF': 144, 'DEM': 139, 'FIM': 122, 'EGP': 96, 'IRR': 84, 'CN¥': 81, 'TRL': 81, 'HUF': 81, 'PLN': 76, '¥': 59, 'HK$': 51, 'CZK': 45, '₩': 44, 'ITL': 42, 'MX$': 42, 'ESP': 41, 'NZ$': 40, 'BDT': 37, 'MYR': 37, 'NLG': 36, 'CHF': 33, 'SGD': 33, 'IDR': 33, 'THB': 29, 'ARS': 24, 'ZAR': 22, 'ROL': 21, 'UAH': 20, 'ISK': 19, 'NT$': 19, 'PKR': 18, 'PTE': 15, 'DOP': 14, '₱': 13, '₪': 11, 'HRK': 8, 'AZM': 8, 'BEF': 7, 'NPR': 7, 'BGL': 7, 'LKR': 7, 'EEK': 6, 'RON': 6, 'COP': 5, '₫': 5, 'CLP': 4, 'VEB': 4, 'LVL': 4, 'NGN': 4, 'GEL': 4, 'SIT': 3, 'YUM': 3, 'LTL': 3, 'MNT': 3, 'ALL': 2, 'SAR': 2, 'AMD': 2, 'AED': 2, 'XAU': 1, 'PYG': 1, 'IEP': 1, 'JMD': 1, 'ATS': 1, 'BND': 1, 'GRD': 1, 'SKK': 1, 'MTL': 1, 'IQD': 1, 'TTD': 1, 'JOD': 1, 'ZWD': 1, 'MVR': 1})\n"
     ]
    }
   ],
   "source": [
    "# rub\n",
    "\n",
    "c = CurrencyConverter()\n",
    "\n",
    "df_rub = pd.read_csv(\"../dat/inflation_data/rub.csv\")\n",
    "np_amount = df_rub[\"amount\"].to_numpy()\n",
    "current_amount = np_amount[-1]\n",
    "\n",
    "for i in range(len(budget_raw)):\n",
    "    if currencies[i] == \"RUR\":\n",
    "        target_year = int(year[i]) if int(year[i]) >= 1993 else 1993\n",
    "        inflation_factor = current_amount/df_rub[df_rub.year == target_year].amount\n",
    "        value[i] = c.convert(value[i] * inflation_factor, 'RUB', 'USD')\n",
    "        currencies[i] = \"usd\"\n",
    "\n",
    "        \n",
    "del df_rub\n",
    "print(Counter(list(currencies)))"
   ]
  },
  {
   "cell_type": "code",
   "execution_count": 100,
   "id": "3ceff022",
   "metadata": {},
   "outputs": [
    {
     "name": "stdout",
     "output_type": "stream",
     "text": [
      "Counter({'': 82075, 'usd': 26339, 'FRF': 144, 'DEM': 139, 'FIM': 122, 'EGP': 96, 'IRR': 84, 'TRL': 81, 'HUF': 81, 'PLN': 76, '¥': 59, 'HK$': 51, 'CZK': 45, '₩': 44, 'ITL': 42, 'MX$': 42, 'ESP': 41, 'NZ$': 40, 'BDT': 37, 'MYR': 37, 'NLG': 36, 'CHF': 33, 'SGD': 33, 'IDR': 33, 'THB': 29, 'ARS': 24, 'ZAR': 22, 'ROL': 21, 'UAH': 20, 'ISK': 19, 'NT$': 19, 'PKR': 18, 'PTE': 15, 'DOP': 14, '₱': 13, '₪': 11, 'HRK': 8, 'AZM': 8, 'BEF': 7, 'NPR': 7, 'BGL': 7, 'LKR': 7, 'EEK': 6, 'RON': 6, 'COP': 5, '₫': 5, 'CLP': 4, 'VEB': 4, 'LVL': 4, 'NGN': 4, 'GEL': 4, 'SIT': 3, 'YUM': 3, 'LTL': 3, 'MNT': 3, 'ALL': 2, 'SAR': 2, 'AMD': 2, 'AED': 2, 'XAU': 1, 'PYG': 1, 'IEP': 1, 'JMD': 1, 'ATS': 1, 'BND': 1, 'GRD': 1, 'SKK': 1, 'MTL': 1, 'IQD': 1, 'TTD': 1, 'JOD': 1, 'ZWD': 1, 'MVR': 1})\n"
     ]
    }
   ],
   "source": [
    "# cny\n",
    "\n",
    "c = CurrencyConverter()\n",
    "\n",
    "df_cny = pd.read_csv(\"../dat/inflation_data/cny.csv\")\n",
    "np_amount = df_cny[\"amount\"].to_numpy()\n",
    "current_amount = np_amount[-1]\n",
    "\n",
    "for i in range(len(budget_raw)):\n",
    "    if currencies[i] == \"CN¥\":\n",
    "        target_year = int(year[i]) if int(year[i]) >= 1987 else 1987\n",
    "        inflation_factor = current_amount/df_cny[df_cny.year == target_year].amount\n",
    "        value[i] = c.convert(value[i] * inflation_factor, 'CNY', 'USD')\n",
    "        currencies[i] = \"usd\"\n",
    "\n",
    "        \n",
    "del df_cny\n",
    "print(Counter(list(currencies)))"
   ]
  },
  {
   "cell_type": "code",
   "execution_count": 103,
   "id": "28e0ce7c",
   "metadata": {},
   "outputs": [
    {
     "name": "stdout",
     "output_type": "stream",
     "text": [
      "Counter({'': 82075, 'usd': 26420, 'FRF': 144, 'DEM': 139, 'FIM': 122, 'EGP': 96, 'IRR': 84, 'HUF': 81, 'PLN': 76, '¥': 59, 'HK$': 51, 'CZK': 45, '₩': 44, 'ITL': 42, 'MX$': 42, 'ESP': 41, 'NZ$': 40, 'BDT': 37, 'MYR': 37, 'NLG': 36, 'CHF': 33, 'SGD': 33, 'IDR': 33, 'THB': 29, 'ARS': 24, 'ZAR': 22, 'ROL': 21, 'UAH': 20, 'ISK': 19, 'NT$': 19, 'PKR': 18, 'PTE': 15, 'DOP': 14, '₱': 13, '₪': 11, 'HRK': 8, 'AZM': 8, 'BEF': 7, 'NPR': 7, 'BGL': 7, 'LKR': 7, 'EEK': 6, 'RON': 6, 'COP': 5, '₫': 5, 'CLP': 4, 'VEB': 4, 'LVL': 4, 'NGN': 4, 'GEL': 4, 'SIT': 3, 'YUM': 3, 'LTL': 3, 'MNT': 3, 'ALL': 2, 'SAR': 2, 'AMD': 2, 'AED': 2, 'XAU': 1, 'PYG': 1, 'IEP': 1, 'JMD': 1, 'ATS': 1, 'BND': 1, 'GRD': 1, 'SKK': 1, 'MTL': 1, 'IQD': 1, 'TTD': 1, 'JOD': 1, 'ZWD': 1, 'MVR': 1})\n"
     ]
    }
   ],
   "source": [
    "# try\n",
    "\n",
    "c = CurrencyConverter()\n",
    "\n",
    "df_try = pd.read_csv(\"../dat/inflation_data/try.csv\")\n",
    "np_amount = df_try[\"amount\"].to_numpy()\n",
    "current_amount = np_amount[-1]\n",
    "\n",
    "for i in range(len(budget_raw)):\n",
    "    if currencies[i] == \"TRL\":\n",
    "        target_year = int(year[i]) if int(year[i]) >= 1960 else 1960\n",
    "        inflation_factor = current_amount/df_try[df_try.year == target_year].amount\n",
    "        value[i] = c.convert(value[i] * inflation_factor, 'TRY', 'USD')\n",
    "        currencies[i] = \"usd\"\n",
    "\n",
    "        \n",
    "del df_try\n",
    "print(Counter(list(currencies)))"
   ]
  },
  {
   "cell_type": "code",
   "execution_count": 105,
   "id": "9ce40e94",
   "metadata": {},
   "outputs": [
    {
     "name": "stdout",
     "output_type": "stream",
     "text": [
      "Counter({'': 82075, 'usd': 26501, 'FRF': 144, 'DEM': 139, 'FIM': 122, 'EGP': 96, 'IRR': 84, 'PLN': 76, '¥': 59, 'HK$': 51, 'CZK': 45, '₩': 44, 'ITL': 42, 'MX$': 42, 'ESP': 41, 'NZ$': 40, 'BDT': 37, 'MYR': 37, 'NLG': 36, 'CHF': 33, 'SGD': 33, 'IDR': 33, 'THB': 29, 'ARS': 24, 'ZAR': 22, 'ROL': 21, 'UAH': 20, 'ISK': 19, 'NT$': 19, 'PKR': 18, 'PTE': 15, 'DOP': 14, '₱': 13, '₪': 11, 'HRK': 8, 'AZM': 8, 'BEF': 7, 'NPR': 7, 'BGL': 7, 'LKR': 7, 'EEK': 6, 'RON': 6, 'COP': 5, '₫': 5, 'CLP': 4, 'VEB': 4, 'LVL': 4, 'NGN': 4, 'GEL': 4, 'SIT': 3, 'YUM': 3, 'LTL': 3, 'MNT': 3, 'ALL': 2, 'SAR': 2, 'AMD': 2, 'AED': 2, 'XAU': 1, 'PYG': 1, 'IEP': 1, 'JMD': 1, 'ATS': 1, 'BND': 1, 'GRD': 1, 'SKK': 1, 'MTL': 1, 'IQD': 1, 'TTD': 1, 'JOD': 1, 'ZWD': 1, 'MVR': 1})\n"
     ]
    }
   ],
   "source": [
    "# huf\n",
    "\n",
    "c = CurrencyConverter()\n",
    "\n",
    "df_huf = pd.read_csv(\"../dat/inflation_data/huf.csv\")\n",
    "np_amount = df_huf[\"amount\"].to_numpy()\n",
    "current_amount = np_amount[-1]\n",
    "\n",
    "for i in range(len(budget_raw)):\n",
    "    if currencies[i] == \"HUF\":\n",
    "        target_year = int(year[i]) if int(year[i]) >= 1973 else 1973\n",
    "        inflation_factor = current_amount/df_huf[df_huf.year == target_year].amount\n",
    "        value[i] = c.convert(value[i] * inflation_factor, 'HUF', 'USD')\n",
    "        currencies[i] = \"usd\"\n",
    "\n",
    "        \n",
    "del df_huf\n",
    "print(Counter(list(currencies)))"
   ]
  },
  {
   "cell_type": "code",
   "execution_count": 107,
   "id": "263831a5",
   "metadata": {},
   "outputs": [
    {
     "name": "stdout",
     "output_type": "stream",
     "text": [
      "Counter({'': 82075, 'usd': 26577, 'FRF': 144, 'DEM': 139, 'FIM': 122, 'EGP': 96, 'IRR': 84, '¥': 59, 'HK$': 51, 'CZK': 45, '₩': 44, 'ITL': 42, 'MX$': 42, 'ESP': 41, 'NZ$': 40, 'BDT': 37, 'MYR': 37, 'NLG': 36, 'CHF': 33, 'SGD': 33, 'IDR': 33, 'THB': 29, 'ARS': 24, 'ZAR': 22, 'ROL': 21, 'UAH': 20, 'ISK': 19, 'NT$': 19, 'PKR': 18, 'PTE': 15, 'DOP': 14, '₱': 13, '₪': 11, 'HRK': 8, 'AZM': 8, 'BEF': 7, 'NPR': 7, 'BGL': 7, 'LKR': 7, 'EEK': 6, 'RON': 6, 'COP': 5, '₫': 5, 'CLP': 4, 'VEB': 4, 'LVL': 4, 'NGN': 4, 'GEL': 4, 'SIT': 3, 'YUM': 3, 'LTL': 3, 'MNT': 3, 'ALL': 2, 'SAR': 2, 'AMD': 2, 'AED': 2, 'XAU': 1, 'PYG': 1, 'IEP': 1, 'JMD': 1, 'ATS': 1, 'BND': 1, 'GRD': 1, 'SKK': 1, 'MTL': 1, 'IQD': 1, 'TTD': 1, 'JOD': 1, 'ZWD': 1, 'MVR': 1})\n"
     ]
    }
   ],
   "source": [
    "# pln\n",
    "\n",
    "c = CurrencyConverter()\n",
    "\n",
    "df_pln = pd.read_csv(\"../dat/inflation_data/jpy.csv\")\n",
    "np_amount = df_pln[\"amount\"].to_numpy()\n",
    "current_amount = np_amount[-1]\n",
    "\n",
    "for i in range(len(budget_raw)):\n",
    "    if currencies[i] == \"PLN\":\n",
    "        target_year = int(year[i]) if int(year[i]) >= 1971 else 1971\n",
    "        inflation_factor = current_amount/df_pln[df_pln.year == target_year].amount\n",
    "        value[i] = c.convert(value[i] * inflation_factor, 'PLN', 'USD')\n",
    "        currencies[i] = \"usd\"\n",
    "\n",
    "        \n",
    "del df_pln\n",
    "print(Counter(list(currencies)))"
   ]
  },
  {
   "cell_type": "code",
   "execution_count": 109,
   "id": "40910b2f",
   "metadata": {},
   "outputs": [
    {
     "name": "stdout",
     "output_type": "stream",
     "text": [
      "Counter({'': 82075, 'usd': 26636, 'FRF': 144, 'DEM': 139, 'FIM': 122, 'EGP': 96, 'IRR': 84, 'HK$': 51, 'CZK': 45, '₩': 44, 'ITL': 42, 'MX$': 42, 'ESP': 41, 'NZ$': 40, 'BDT': 37, 'MYR': 37, 'NLG': 36, 'CHF': 33, 'SGD': 33, 'IDR': 33, 'THB': 29, 'ARS': 24, 'ZAR': 22, 'ROL': 21, 'UAH': 20, 'ISK': 19, 'NT$': 19, 'PKR': 18, 'PTE': 15, 'DOP': 14, '₱': 13, '₪': 11, 'HRK': 8, 'AZM': 8, 'BEF': 7, 'NPR': 7, 'BGL': 7, 'LKR': 7, 'EEK': 6, 'RON': 6, 'COP': 5, '₫': 5, 'CLP': 4, 'VEB': 4, 'LVL': 4, 'NGN': 4, 'GEL': 4, 'SIT': 3, 'YUM': 3, 'LTL': 3, 'MNT': 3, 'ALL': 2, 'SAR': 2, 'AMD': 2, 'AED': 2, 'XAU': 1, 'PYG': 1, 'IEP': 1, 'JMD': 1, 'ATS': 1, 'BND': 1, 'GRD': 1, 'SKK': 1, 'MTL': 1, 'IQD': 1, 'TTD': 1, 'JOD': 1, 'ZWD': 1, 'MVR': 1})\n"
     ]
    }
   ],
   "source": [
    "# jpy\n",
    "\n",
    "c = CurrencyConverter()\n",
    "\n",
    "df_jpy = pd.read_csv(\"../dat/inflation_data/jpy.csv\")\n",
    "np_amount = df_jpy[\"amount\"].to_numpy()\n",
    "current_amount = np_amount[-1]\n",
    "\n",
    "for i in range(len(budget_raw)):\n",
    "    if currencies[i] == \"¥\":\n",
    "        target_year = int(year[i]) if int(year[i]) >= 1960 else 1960\n",
    "        inflation_factor = current_amount/df_jpy[df_jpy.year == target_year].amount\n",
    "        value[i] = c.convert(value[i] * inflation_factor, 'JPY', 'USD')\n",
    "        currencies[i] = \"usd\"\n",
    "\n",
    "        \n",
    "del df_jpy\n",
    "print(Counter(list(currencies)))"
   ]
  },
  {
   "cell_type": "code",
   "execution_count": 108,
   "id": "45570421",
   "metadata": {},
   "outputs": [
    {
     "data": {
      "text/html": [
       "<div>\n",
       "<style scoped>\n",
       "    .dataframe tbody tr th:only-of-type {\n",
       "        vertical-align: middle;\n",
       "    }\n",
       "\n",
       "    .dataframe tbody tr th {\n",
       "        vertical-align: top;\n",
       "    }\n",
       "\n",
       "    .dataframe thead th {\n",
       "        text-align: right;\n",
       "    }\n",
       "</style>\n",
       "<table border=\"1\" class=\"dataframe\">\n",
       "  <thead>\n",
       "    <tr style=\"text-align: right;\">\n",
       "      <th></th>\n",
       "      <th>year</th>\n",
       "      <th>amount</th>\n",
       "      <th>inflation rate</th>\n",
       "    </tr>\n",
       "  </thead>\n",
       "  <tbody>\n",
       "    <tr>\n",
       "      <th>0</th>\n",
       "      <td>1960</td>\n",
       "      <td>1.00</td>\n",
       "      <td>0.04</td>\n",
       "    </tr>\n",
       "    <tr>\n",
       "      <th>1</th>\n",
       "      <td>1961</td>\n",
       "      <td>1.05</td>\n",
       "      <td>0.05</td>\n",
       "    </tr>\n",
       "    <tr>\n",
       "      <th>2</th>\n",
       "      <td>1962</td>\n",
       "      <td>1.13</td>\n",
       "      <td>0.07</td>\n",
       "    </tr>\n",
       "    <tr>\n",
       "      <th>3</th>\n",
       "      <td>1963</td>\n",
       "      <td>1.20</td>\n",
       "      <td>0.07</td>\n",
       "    </tr>\n",
       "    <tr>\n",
       "      <th>4</th>\n",
       "      <td>1964</td>\n",
       "      <td>1.25</td>\n",
       "      <td>0.04</td>\n",
       "    </tr>\n",
       "    <tr>\n",
       "      <th>...</th>\n",
       "      <td>...</td>\n",
       "      <td>...</td>\n",
       "      <td>...</td>\n",
       "    </tr>\n",
       "    <tr>\n",
       "      <th>58</th>\n",
       "      <td>2018</td>\n",
       "      <td>5.53</td>\n",
       "      <td>0.01</td>\n",
       "    </tr>\n",
       "    <tr>\n",
       "      <th>59</th>\n",
       "      <td>2019</td>\n",
       "      <td>5.55</td>\n",
       "      <td>0.00</td>\n",
       "    </tr>\n",
       "    <tr>\n",
       "      <th>60</th>\n",
       "      <td>2020</td>\n",
       "      <td>5.55</td>\n",
       "      <td>-0.00</td>\n",
       "    </tr>\n",
       "    <tr>\n",
       "      <th>61</th>\n",
       "      <td>2021</td>\n",
       "      <td>5.55</td>\n",
       "      <td>-0.00</td>\n",
       "    </tr>\n",
       "    <tr>\n",
       "      <th>62</th>\n",
       "      <td>2022</td>\n",
       "      <td>5.55</td>\n",
       "      <td>-0.00</td>\n",
       "    </tr>\n",
       "  </tbody>\n",
       "</table>\n",
       "<p>63 rows × 3 columns</p>\n",
       "</div>"
      ],
      "text/plain": [
       "    year  amount  inflation rate\n",
       "0   1960    1.00            0.04\n",
       "1   1961    1.05            0.05\n",
       "2   1962    1.13            0.07\n",
       "3   1963    1.20            0.07\n",
       "4   1964    1.25            0.04\n",
       "..   ...     ...             ...\n",
       "58  2018    5.53            0.01\n",
       "59  2019    5.55            0.00\n",
       "60  2020    5.55           -0.00\n",
       "61  2021    5.55           -0.00\n",
       "62  2022    5.55           -0.00\n",
       "\n",
       "[63 rows x 3 columns]"
      ]
     },
     "execution_count": 108,
     "metadata": {},
     "output_type": "execute_result"
    }
   ],
   "source": [
    "pd.read_csv(\"../dat/inflation_data/jpy.csv\")"
   ]
  },
  {
   "cell_type": "code",
   "execution_count": null,
   "id": "1134ad46",
   "metadata": {},
   "outputs": [],
   "source": []
  }
 ],
 "metadata": {
  "kernelspec": {
   "display_name": "Python 3 (ipykernel)",
   "language": "python",
   "name": "python3"
  },
  "language_info": {
   "codemirror_mode": {
    "name": "ipython",
    "version": 3
   },
   "file_extension": ".py",
   "mimetype": "text/x-python",
   "name": "python",
   "nbconvert_exporter": "python",
   "pygments_lexer": "ipython3",
   "version": "3.9.7"
  }
 },
 "nbformat": 4,
 "nbformat_minor": 5
}
