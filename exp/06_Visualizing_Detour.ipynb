{
 "cells": [
  {
   "cell_type": "markdown",
   "id": "f35ef4fb-3a98-4cf1-b4e2-1b87654cf20e",
   "metadata": {},
   "source": [
    "### Selecting columns, viualizing"
   ]
  },
  {
   "cell_type": "code",
   "execution_count": 1,
   "id": "eb5b3334-f8fc-4bc0-ba11-a29eff4269d6",
   "metadata": {},
   "outputs": [],
   "source": [
    "from matplotlib import pyplot as plt\n",
    "import pandas as pd\n",
    "import numpy as np\n",
    "import itertools"
   ]
  },
  {
   "cell_type": "code",
   "execution_count": 2,
   "id": "d43f9484-66ab-455b-ad5b-e52f5971e4a0",
   "metadata": {},
   "outputs": [
    {
     "name": "stderr",
     "output_type": "stream",
     "text": [
      "/home/daniel/.local/lib/python3.8/site-packages/IPython/core/interactiveshell.py:3169: DtypeWarning: Columns (5,16) have mixed types.Specify dtype option on import or set low_memory=False.\n",
      "  has_raised = await self.run_ast_nodes(code_ast.body, cell_name,\n"
     ]
    }
   ],
   "source": [
    "data = pd.read_csv(\"../dat/data_clean.csv\")"
   ]
  },
  {
   "cell_type": "code",
   "execution_count": 3,
   "id": "8d756f1c-509d-4a86-83fd-de9c7b14aab0",
   "metadata": {},
   "outputs": [
    {
     "name": "stdout",
     "output_type": "stream",
     "text": [
      "<class 'pandas.core.frame.DataFrame'>\n",
      "RangeIndex: 273543 entries, 0 to 273542\n",
      "Data columns (total 20 columns):\n",
      " #   Column                       Non-Null Count   Dtype  \n",
      "---  ------                       --------------   -----  \n",
      " 0   tconst                       273543 non-null  object \n",
      " 1   titleType                    273543 non-null  object \n",
      " 2   primaryTitle                 273543 non-null  object \n",
      " 3   originalTitle                273543 non-null  object \n",
      " 4   isAdult                      273543 non-null  int64  \n",
      " 5   startYear                    273543 non-null  object \n",
      " 6   endYear                      273543 non-null  object \n",
      " 7   runtimeMinutes               273543 non-null  object \n",
      " 8   genres                       273543 non-null  object \n",
      " 9   averageRating                273543 non-null  float64\n",
      " 10  numVotes                     273543 non-null  int64  \n",
      " 11  Budget                       49881 non-null   float64\n",
      " 12  Gross US & Canada            18982 non-null   float64\n",
      " 13  Opening weekend US & Canada  16112 non-null   float64\n",
      " 14  Gross worldwide              45004 non-null   float64\n",
      " 15  Rating                       82925 non-null   object \n",
      " 16  Critic reviews               89561 non-null   object \n",
      " 17  User reviews                 114165 non-null  object \n",
      " 18  directors                    273543 non-null  object \n",
      " 19  writers                      273543 non-null  object \n",
      "dtypes: float64(5), int64(2), object(13)\n",
      "memory usage: 41.7+ MB\n"
     ]
    }
   ],
   "source": [
    "data.info()"
   ]
  },
  {
   "cell_type": "code",
   "execution_count": 4,
   "id": "d78fc93f-150c-446e-81db-3804a9cffcdc",
   "metadata": {},
   "outputs": [
    {
     "name": "stdout",
     "output_type": "stream",
     "text": [
      "318\n"
     ]
    }
   ],
   "source": [
    "data[\"Critic reviews\"] = data[\"Critic reviews\"].fillna(0)\n",
    "data[\"User reviews\"] = data[\"User reviews\"].fillna(0)\n",
    "\n",
    "data[\"isAdult2\"] = data.apply(lambda row: int(\"Adult\" in row[\"genres\"]), axis=1)\n",
    "print(len(data[data[\"isAdult\"] != data[\"isAdult2\"]]))  # We use the one based on the genres\n",
    "\n",
    "# tconst was only required for joins\n",
    "# titleType is only films for us, we filtered them\n",
    "# we do not use the titles as predictors\n",
    "# endYear is None for all films\n",
    "# isAdult will be added back in a consistent format later on"
   ]
  },
  {
   "cell_type": "code",
   "execution_count": 5,
   "id": "ce8e91cf-33bb-4d49-8f99-8a6fe2d090fe",
   "metadata": {},
   "outputs": [],
   "source": [
    "def clean_unknowns(row, column):\n",
    "    if row[column] == \"\\\\N\":\n",
    "        return None\n",
    "    else:\n",
    "        return row[column]\n",
    "\n",
    "def clean_reviews(row, column):\n",
    "    if isinstance(row[column], str) and \"K\" in row[column]:\n",
    "        # print(row[column], end=\" -> \")\n",
    "        if \".\" in row[column]:\n",
    "            # print(int(row[column][:-3]) * 1000 + int(row[column][-2]) * 100)\n",
    "            return int(row[column][:-3]) * 1000 + int(row[column][-2]) * 100\n",
    "        else:\n",
    "            # print(int(row[column][:-1]) * 1000)\n",
    "            return int(row[column][:-1]) * 1000\n",
    "    else:\n",
    "        return row[column]\n",
    "\n",
    "# Just an example of problematic data types\n",
    "# print(\"Problematic form\")\n",
    "# print(data.startYear.unique())\n",
    "# print(data.runtimeMinutes.unique())\n",
    "# print(data[\"User reviews\"].unique())\n",
    "# print(data[\"Critic reviews\"].unique())\n",
    "\n",
    "data[\"startYear\"] = data.apply(lambda row: clean_unknowns(row, \"startYear\"), axis=1)\n",
    "data[\"runtimeMinutes\"] = data.apply(lambda row: clean_unknowns(row, \"runtimeMinutes\"), axis=1)\n",
    "data[\"User reviews\"] = data.apply(lambda row: clean_reviews(row, \"User reviews\"), axis=1)\n",
    "data[\"Critic reviews\"] = data.apply(lambda row: clean_reviews(row, \"Critic reviews\"), axis=1)\n",
    "\n",
    "for column in [\"startYear\", \"runtimeMinutes\", \"User reviews\", \"Critic reviews\"]:\n",
    "    data[column] = pd.to_numeric(data[column])\n",
    "\n",
    "# print(\"Resolved form\")\n",
    "# print(data.startYear.unique())\n",
    "# print(data.runtimeMinutes.unique())\n",
    "# print(data[\"User reviews\"].unique())\n",
    "# print(data[\"Critic reviews\"].unique())"
   ]
  },
  {
   "cell_type": "code",
   "execution_count": 6,
   "id": "85ef5878-ecf4-43ec-960b-74d1ed561e1f",
   "metadata": {},
   "outputs": [
    {
     "name": "stdout",
     "output_type": "stream",
     "text": [
      "All features present:\n",
      "7966\n",
      "\n"
     ]
    }
   ],
   "source": [
    "print(\"All features present:\")\n",
    "filtered = data.dropna()\n",
    "print(len(filtered))\n",
    "print()"
   ]
  },
  {
   "cell_type": "code",
   "execution_count": 7,
   "id": "069f0419-238a-45f2-82da-bec40d1fd45c",
   "metadata": {},
   "outputs": [
    {
     "data": {
      "text/plain": [
       "<matplotlib.collections.PathCollection at 0x7f59781290d0>"
      ]
     },
     "execution_count": 7,
     "metadata": {},
     "output_type": "execute_result"
    },
    {
     "data": {
      "image/png": "[encoded data removed]",
      "text/plain": [
       "<Figure size 432x288 with 1 Axes>"
      ]
     },
     "metadata": {
      "needs_background": "light"
     },
     "output_type": "display_data"
    }
   ],
   "source": [
    "fig, ax = plt.subplots()\n",
    "ax.set_xlim(data[\"startYear\"].min(), data[\"startYear\"].max())\n",
    "ax.scatter(data[\"startYear\"], data[\"averageRating\"])"
   ]
  },
  {
   "cell_type": "code",
   "execution_count": 8,
   "id": "dd775d02-eabd-4197-9d4b-e2d2f7bf6bb7",
   "metadata": {},
   "outputs": [
    {
     "data": {
      "text/plain": [
       "<matplotlib.collections.PathCollection at 0x7f596f864e80>"
      ]
     },
     "execution_count": 8,
     "metadata": {},
     "output_type": "execute_result"
    },
    {
     "data": {
      "image/png": "[encoded data removed]",
      "text/plain": [
       "<Figure size 432x288 with 1 Axes>"
      ]
     },
     "metadata": {
      "needs_background": "light"
     },
     "output_type": "display_data"
    }
   ],
   "source": [
    "fig, ax = plt.subplots()\n",
    "ax.set_xlim(data[\"startYear\"].min(), data[\"startYear\"].max())\n",
    "ax.scatter(filtered[\"startYear\"], filtered[\"averageRating\"])"
   ]
  },
  {
   "cell_type": "code",
   "execution_count": null,
   "id": "18429d13-ccd7-425a-9e5f-9872f7c17805",
   "metadata": {},
   "outputs": [],
   "source": []
  }
 ],
 "metadata": {
  "kernelspec": {
   "display_name": "Python 3",
   "language": "python",
   "name": "python3"
  },
  "language_info": {
   "codemirror_mode": {
    "name": "ipython",
    "version": 3
   },
   "file_extension": ".py",
   "mimetype": "text/x-python",
   "name": "python",
   "nbconvert_exporter": "python",
   "pygments_lexer": "ipython3",
   "version": "3.8.10"
  }
 },
 "nbformat": 4,
 "nbformat_minor": 5
}
