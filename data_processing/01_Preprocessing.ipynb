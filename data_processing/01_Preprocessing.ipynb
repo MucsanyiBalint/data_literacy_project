{
 "cells": [
  {
   "cell_type": "code",
   "execution_count": 1,
   "id": "3c313086",
   "metadata": {},
   "outputs": [],
   "source": [
    "import numpy as np\n",
    "import pandas as pd"
   ]
  },
  {
   "cell_type": "code",
   "execution_count": 2,
   "id": "f2007571",
   "metadata": {},
   "outputs": [
    {
     "name": "stderr",
     "output_type": "stream",
     "text": [
      "/home/daniel/.local/lib/python3.8/site-packages/IPython/core/interactiveshell.py:3169: DtypeWarning: Columns (4,5) have mixed types.Specify dtype option on import or set low_memory=False.\n",
      "  has_raised = await self.run_ast_nodes(code_ast.body, cell_name,\n"
     ]
    },
    {
     "name": "stdout",
     "output_type": "stream",
     "text": [
      "overall:  8598896\n",
      "Number of movies:\t 598851\n",
      "Number of movies with rating:\t 273557\n",
      "Number of movies at least 100 ratings:\t 110156\n",
      "Number scraped movies:\t 110155\n"
     ]
    },
    {
     "name": "stderr",
     "output_type": "stream",
     "text": [
      "/home/daniel/.local/lib/python3.8/site-packages/IPython/core/interactiveshell.py:3169: DtypeWarning: Columns (6,7) have mixed types.Specify dtype option on import or set low_memory=False.\n",
      "  has_raised = await self.run_ast_nodes(code_ast.body, cell_name,\n"
     ]
    },
    {
     "name": "stdout",
     "output_type": "stream",
     "text": [
      "Number of movies at least 100 ratings after dropping:\t 110155\n",
      "Number of movies after merge:\t 110155\n",
      "Number of movies after crew merge:\t 110155\n"
     ]
    }
   ],
   "source": [
    "# Read the basic data frame of IMDb\n",
    "df = pd.read_csv(\"./imdb_data/title_basics/data.tsv\", sep=\"\\t\")\n",
    "print(\"overall: \",len(df.index))\n",
    "\n",
    "# Sort out any non-movies (e.g tv-shows)\n",
    "df = df[df[\"titleType\"]==\"movie\"]\n",
    "print(\"Number of movies:\\t\",len(df.index))\n",
    "\n",
    "# Read the review data frame of IMDb\n",
    "df_reviews = pd.read_csv(\"./imdb_data/title_ratings/data.tsv\", sep=\"\\t\")\n",
    "\n",
    "df[\"tconst\"] = df[\"tconst\"].astype(str)\n",
    "df_reviews[\"tconst\"] = df_reviews[\"tconst\"].astype(str)\n",
    "\n",
    "# inner merge of movies and ratings (movies without any votes are dropped)\n",
    "df = df.merge(df_reviews, how=\"inner\", on=\"tconst\")\n",
    "print(\"Number of movies with rating:\\t\",len(df.index))\n",
    "\n",
    "# Free up some memory\n",
    "del df_reviews\n",
    "\n",
    "# sort out all movies which have less than 100 votes\n",
    "df = df[df[\"numVotes\"]>=100]\n",
    "print(\"Number of movies at least 100 ratings:\\t\",df.shape[0])\n",
    "\n",
    "# Read in our scraped data\n",
    "df_scrape = pd.read_csv(\"./tconst_scraped_data.csv\")\n",
    "print(\"Number scraped movies:\\t\", len(df_scrape))\n",
    "\n",
    "## Hard Coding\n",
    "\n",
    "# Change Movie ID \"tt11905872\" in the basic DF to the new id \"tt4131756\"\n",
    "# These are the same movie. The the basic IMDb data set has an old tconst\n",
    "df[\"tconst\"] = df[\"tconst\"].replace([\"tt11905872\"],\"tt4131756\")\n",
    "\n",
    "# Drop Movie \"tt4131756\" because it's no longer available\n",
    "# Movie not available (404 Error)\n",
    "df = df[df.tconst != \"tt7368158\"]\n",
    "print(\"Number of movies at least 100 ratings after dropping:\\t\",df.shape[0])\n",
    "\n",
    "# Movie \"tt1027755\" does not have start year but was realeased in 2012\n",
    "df.iloc[62178, 5] = \"2012\"\n",
    "\n",
    "\n",
    "df[\"tconst\"] = df[\"tconst\"].astype(str)\n",
    "df_scrape[\"tconst\"] = df_scrape[\"tconst\"].astype(str)\n",
    "\n",
    "# Merge the data frame and the scraped content\n",
    "df = df.merge(df_scrape, how=\"inner\", on=\"tconst\")\n",
    "print(\"Number of movies after merge:\\t\",df.shape[0])\n",
    "\n",
    "# Free up some memory\n",
    "del df_scrape\n",
    "\n",
    "# Read the review data frame of IMDb\n",
    "df_crew = pd.read_csv(\"./imdb_data/title_crew/data.tsv\", sep=\"\\t\")\n",
    "\n",
    "df[\"tconst\"] = df[\"tconst\"].astype(str)\n",
    "df_crew[\"tconst\"] = df_crew[\"tconst\"].astype(str)\n",
    "\n",
    "# inner merge of movies and ratings (movies without any votes are dropped)\n",
    "df = df.merge(df_crew, how=\"inner\", on=\"tconst\")\n",
    "print(\"Number of movies after crew merge:\\t\",len(df))\n",
    "\n",
    "# Free up some memory\n",
    "del df_crew\n",
    "\n",
    "# Sort according to tconst\n",
    "df = df.sort_values(\"tconst\")\n"
   ]
  },
  {
   "cell_type": "code",
   "execution_count": 66,
   "id": "90a0a4bf",
   "metadata": {},
   "outputs": [
    {
     "name": "stdout",
     "output_type": "stream",
     "text": [
      "Counter({'$': 19112, '€': 3145, '₹': 1198, '£': 955, 'CA$': 787, 'A$': 320, 'SEK': 186, 'NOK': 162, 'R$': 149, 'FRF': 144, 'DEM': 139, 'FIM': 122, 'DKK': 122, 'RUR': 122, 'EGP': 96, 'IRR': 84, 'CN¥': 81, 'TRL': 81, 'HUF': 81, 'PLN': 76, '¥': 59, 'HK$': 51, 'CZK': 45, '₩': 44, 'ITL': 42, 'MX$': 42, 'ESP': 41, 'NZ$': 40, 'BDT': 37, 'MYR': 37, 'NLG': 36, 'CHF': 33, 'SGD': 33, 'IDR': 33, 'THB': 29, 'ARS': 24, 'ZAR': 22, 'ROL': 21, 'UAH': 20, 'ISK': 19, 'NT$': 19, 'PKR': 18, 'PTE': 15, 'DOP': 14, '₱': 13, '₪': 11, 'HRK': 8, 'AZM': 8, 'BEF': 7, 'NPR': 7, 'BGL': 7, 'LKR': 7, 'EEK': 6, 'RON': 6, 'COP': 5, '₫': 5, 'CLP': 4, 'VEB': 4, 'LVL': 4, 'NGN': 4, 'GEL': 4, 'SIT': 3, 'YUM': 3, 'LTL': 3, 'MNT': 3, 'ALL': 2, 'SAR': 2, 'AMD': 2, 'AED': 2, 'XAU': 1, 'PYG': 1, 'IEP': 1, 'JMD': 1, 'ATS': 1, 'BND': 1, 'GRD': 1, 'SKK': 1, 'MTL': 1, 'IQD': 1, 'TTD': 1, 'JOD': 1, 'ZWD': 1, 'MVR': 1})\n",
      "25517\n"
     ]
    }
   ],
   "source": [
    "budget = df[\"Budget\"].to_numpy()\n",
    "import re\n",
    "\n",
    "currencies = []\n",
    "\n",
    "counter = 0\n",
    "\n",
    "for i in range(len(budget)):\n",
    "    string = budget[i]\n",
    "    \n",
    "    if not pd.isna(string):\n",
    "\n",
    "        number = \"\".join(re.findall(r'[\\d]+', string))\n",
    "        currency = re.findall(r'[^{\\d,\\xa0}]+', string)[0]\n",
    "        \n",
    "        \n",
    "        currencies.append(currency)\n",
    "        \n",
    "        if currency in [\"$\", \"£\", \"€\", \"CA$\", \"₹\", \"A$\"]:\n",
    "            counter += 1\n",
    "\n",
    "from collections import Counter\n",
    "print(Counter(currencies))\n",
    "print(counter)\n",
    "        \n",
    "# data for [\"$\", \"€\", \"CA$\", \"£\", \"A$\", ]\n",
    "\n",
    "    "
   ]
  },
  {
   "cell_type": "code",
   "execution_count": 61,
   "id": "19f7d778",
   "metadata": {},
   "outputs": [
    {
     "data": {
      "text/plain": [
       "91.02494083378846"
      ]
     },
     "execution_count": 61,
     "metadata": {},
     "output_type": "execute_result"
    }
   ],
   "source": [
    "from currency_converter import CurrencyConverter\n",
    "from datetime import date # datetime works too\n",
    "\n",
    "c = CurrencyConverter(fallback_on_wrong_date=True)\n",
    "c.convert(100, 'USD', date=date(1999,3,1))\n"
   ]
  },
  {
   "cell_type": "code",
   "execution_count": 37,
   "id": "1be9072d",
   "metadata": {},
   "outputs": [
    {
     "data": {
      "text/plain": [
       "array(['$', 'A$', 'AED', 'ALL', 'AMD', 'ARS', 'ATS', 'AZM', 'BDT', 'BEF',\n",
       "       'BGL', 'BND', 'CA$', 'CHF', 'CLP', 'CN¥', 'COP', 'CZK', 'DEM',\n",
       "       'DKK', 'DOP', 'EEK', 'EGP', 'ESP', 'FIM', 'FRF', 'GEL', 'GRD',\n",
       "       'HK$', 'HRK', 'HUF', 'IDR', 'IEP', 'IQD', 'IRR', 'ISK', 'ITL',\n",
       "       'JMD', 'JOD', 'LKR', 'LTL', 'LVL', 'MNT', 'MTL', 'MVR', 'MX$',\n",
       "       'MYR', 'NGN', 'NLG', 'NOK', 'NPR', 'NT$', 'NZ$', 'PKR', 'PLN',\n",
       "       'PTE', 'PYG', 'R$', 'ROL', 'RON', 'RUR', 'SAR', 'SEK', 'SGD',\n",
       "       'SIT', 'SKK', 'THB', 'TRL', 'TTD', 'UAH', 'VEB', 'XAU', 'YUM',\n",
       "       'ZAR', 'ZWD', '£', '¥', '₩', '₪', '₫', '€', '₱', '₹'], dtype='<U3')"
      ]
     },
     "execution_count": 37,
     "metadata": {},
     "output_type": "execute_result"
    }
   ],
   "source": [
    "np.unique(currencies)"
   ]
  },
  {
   "cell_type": "code",
   "execution_count": 17,
   "id": "7245868b",
   "metadata": {},
   "outputs": [
    {
     "data": {
      "text/html": [
       "<table border=\"1\" class=\"dataframe\">\n",
       "  <thead>\n",
       "    <tr style=\"text-align: right;\">\n",
       "      <th></th>\n",
       "      <th>tconst</th>\n",
       "      <th>titleType</th>\n",
       "      <th>primaryTitle</th>\n",
       "      <th>originalTitle</th>\n",
       "      <th>isAdult</th>\n",
       "      <th>startYear</th>\n",
       "      <th>endYear</th>\n",
       "      <th>runtimeMinutes</th>\n",
       "      <th>genres</th>\n",
       "      <th>averageRating</th>\n",
       "      <th>numVotes</th>\n",
       "      <th>Budget</th>\n",
       "      <th>Gross US &amp; Canada</th>\n",
       "      <th>Opening weekend US &amp; Canada</th>\n",
       "      <th>Gross worldwide</th>\n",
       "      <th>Rating</th>\n",
       "      <th>User reviews</th>\n",
       "      <th>Critic reviews</th>\n",
       "      <th>directors</th>\n",
       "      <th>writers</th>\n",
       "    </tr>\n",
       "  </thead>\n",
       "  <tbody>\n",
       "    <tr>\n",
       "      <th>62903</th>\n",
       "      <td>tt1049413</td>\n",
       "      <td>movie</td>\n",
       "      <td>Up</td>\n",
       "      <td>Up</td>\n",
       "      <td>0</td>\n",
       "      <td>2009</td>\n",
       "      <td>\\N</td>\n",
       "      <td>96</td>\n",
       "      <td>Adventure,Animation,Comedy</td>\n",
       "      <td>8.2</td>\n",
       "      <td>993395</td>\n",
       "      <td>$175,000,000 (estimated)</td>\n",
       "      <td>$293,004,164</td>\n",
       "      <td>$68,108,790</td>\n",
       "      <td>$735,099,102</td>\n",
       "      <td>PG</td>\n",
       "      <td>1K</td>\n",
       "      <td>408.0</td>\n",
       "      <td>nm0230032,nm0677037</td>\n",
       "      <td>nm0230032,nm0677037,nm0565336</td>\n",
       "    </tr>\n",
       "  </tbody>\n",
       "</table>"
      ],
      "text/plain": [
       "<IPython.core.display.HTML object>"
      ]
     },
     "metadata": {},
     "output_type": "display_data"
    }
   ],
   "source": [
    "display(HTML(df_budget[df_budget[\"primaryTitle\"]==\"Up\"].to_html()))"
   ]
  },
  {
   "cell_type": "code",
   "execution_count": 33,
   "id": "714f33bf",
   "metadata": {},
   "outputs": [
    {
     "name": "stdout",
     "output_type": "stream",
     "text": [
      " \n"
     ]
    }
   ],
   "source": [
    "print(\"\\xa0\")"
   ]
  },
  {
   "cell_type": "code",
   "execution_count": 4,
   "id": "d9cd10e7",
   "metadata": {},
   "outputs": [],
   "source": [
    "# ours 797_615_189.873417\n",
    "# infl 797_701_090.78"
   ]
  },
  {
   "cell_type": "code",
   "execution_count": 4,
   "id": "54c5fe08",
   "metadata": {},
   "outputs": [],
   "source": [
    "df.to_csv(\"raw_data.csv\", index=False)"
   ]
  },
  {
   "cell_type": "code",
   "execution_count": 5,
   "id": "f5849914",
   "metadata": {},
   "outputs": [
    {
     "ename": "NameError",
     "evalue": "name 'c' is not defined",
     "output_type": "error",
     "traceback": [
      "\u001b[0;31m---------------------------------------------------------------------------\u001b[0m",
      "\u001b[0;31mNameError\u001b[0m                                 Traceback (most recent call last)",
      "\u001b[0;32m<ipython-input-5-0bdbaf4aa8b2>\u001b[0m in \u001b[0;36m<module>\u001b[0;34m\u001b[0m\n\u001b[0;32m----> 1\u001b[0;31m \u001b[0mc\u001b[0m\u001b[0;34m.\u001b[0m\u001b[0mcurrencies\u001b[0m\u001b[0;34m\u001b[0m\u001b[0;34m\u001b[0m\u001b[0m\n\u001b[0m",
      "\u001b[0;31mNameError\u001b[0m: name 'c' is not defined"
     ]
    }
   ],
   "source": [
    "c.currencies"
   ]
  },
  {
   "cell_type": "code",
   "execution_count": null,
   "id": "01d62f96",
   "metadata": {},
   "outputs": [],
   "source": []
  }
 ],
 "metadata": {
  "kernelspec": {
   "display_name": "Python 3 (ipykernel)",
   "language": "python",
   "name": "python3"
  },
  "language_info": {
   "codemirror_mode": {
    "name": "ipython",
    "version": 3
   },
   "file_extension": ".py",
   "mimetype": "text/x-python",
   "name": "python",
   "nbconvert_exporter": "python",
   "pygments_lexer": "ipython3",
   "version": "3.9.7"
  }
 },
 "nbformat": 4,
 "nbformat_minor": 5
}
