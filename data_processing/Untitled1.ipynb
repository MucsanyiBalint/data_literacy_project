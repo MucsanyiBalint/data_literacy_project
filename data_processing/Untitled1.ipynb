{
 "cells": [
  {
   "cell_type": "code",
   "execution_count": 1,
   "id": "aa9eada9",
   "metadata": {},
   "outputs": [],
   "source": [
    "import numpy as np\n",
    "import pandas as pd"
   ]
  },
  {
   "cell_type": "code",
   "execution_count": 2,
   "id": "0707059d",
   "metadata": {},
   "outputs": [
    {
     "name": "stderr",
     "output_type": "stream",
     "text": [
      "/home/daniel/.local/lib/python3.8/site-packages/IPython/core/interactiveshell.py:3169: DtypeWarning: Columns (4,5) have mixed types.Specify dtype option on import or set low_memory=False.\n",
      "  has_raised = await self.run_ast_nodes(code_ast.body, cell_name,\n"
     ]
    },
    {
     "name": "stdout",
     "output_type": "stream",
     "text": [
      "overall:  8598896\n",
      "Number of movies:\t 598851\n",
      "Number of movies with rating:\t 273557\n",
      "Number of movies at least 100 ratings:\t 110156\n"
     ]
    }
   ],
   "source": [
    "df = pd.read_csv(\"./imdb_data/title_basics/data.tsv\", sep=\"\\t\")\n",
    "print(\"overall: \", len(df.index))\n",
    "\n",
    "df = df[df[\"titleType\"]==\"movie\"]\n",
    "print(\"Number of movies:\\t\", len(df.index))\n",
    "\n",
    "df_reviews = pd.read_csv(\"./imdb_data/title_ratings/data.tsv\", sep=\"\\t\")\n",
    "\n",
    "df[\"tconst\"] = df[\"tconst\"].astype(str)\n",
    "df_reviews[\"tconst\"] = df_reviews[\"tconst\"].astype(str)\n",
    "\n",
    "df = df.merge(df_reviews, how=\"inner\", on=\"tconst\")\n",
    "print(\"Number of movies with rating:\\t\", len(df.index))\n",
    "\n",
    "df = df[df[\"numVotes\"]>=100]\n",
    "print(\"Number of movies at least 100 ratings:\\t\", df.shape[0])"
   ]
  },
  {
   "cell_type": "code",
   "execution_count": 3,
   "id": "6e33a073",
   "metadata": {},
   "outputs": [
    {
     "name": "stdout",
     "output_type": "stream",
     "text": [
      "Number scraped movies:\t 110155\n"
     ]
    },
    {
     "name": "stderr",
     "output_type": "stream",
     "text": [
      "/home/daniel/.local/lib/python3.8/site-packages/IPython/core/interactiveshell.py:3169: DtypeWarning: Columns (6,7) have mixed types.Specify dtype option on import or set low_memory=False.\n",
      "  has_raised = await self.run_ast_nodes(code_ast.body, cell_name,\n"
     ]
    }
   ],
   "source": [
    "df_scrape = pd.read_csv(\"./tconst_scraped_data.csv\")\n",
    "print(\"Number scraped movies:\\t\", len(df_scrape.index))"
   ]
  },
  {
   "cell_type": "code",
   "execution_count": 9,
   "id": "1383ae48",
   "metadata": {},
   "outputs": [
    {
     "data": {
      "text/plain": [
       "{'tt11905872', 'tt7368158'}"
      ]
     },
     "execution_count": 9,
     "metadata": {},
     "output_type": "execute_result"
    }
   ],
   "source": [
    "set(df[\"tconst\"].to_list()).difference(df_scrape[\"tconst\"].tolist())"
   ]
  },
  {
   "cell_type": "code",
   "execution_count": 10,
   "id": "cf2998ee",
   "metadata": {},
   "outputs": [
    {
     "data": {
      "text/plain": [
       "{'tt4131756'}"
      ]
     },
     "execution_count": 10,
     "metadata": {},
     "output_type": "execute_result"
    }
   ],
   "source": [
    "set(df_scrape[\"tconst\"].to_list()).difference(df[\"tconst\"].tolist())"
   ]
  },
  {
   "cell_type": "code",
   "execution_count": 5,
   "id": "9f001893",
   "metadata": {},
   "outputs": [
    {
     "name": "stdout",
     "output_type": "stream",
     "text": [
      "True\n"
     ]
    }
   ],
   "source": [
    "print(\"tt11905872\" in df[\"tconst\"].to_list())"
   ]
  },
  {
   "cell_type": "code",
   "execution_count": 6,
   "id": "1cda9713",
   "metadata": {},
   "outputs": [
    {
     "name": "stdout",
     "output_type": "stream",
     "text": [
      "True\n"
     ]
    }
   ],
   "source": [
    "print(\"tt7368158\" in df[\"tconst\"].to_list())"
   ]
  },
  {
   "cell_type": "code",
   "execution_count": 7,
   "id": "30696772",
   "metadata": {},
   "outputs": [
    {
     "name": "stdout",
     "output_type": "stream",
     "text": [
      "False\n",
      "False\n"
     ]
    }
   ],
   "source": [
    "print(\"tt11905872\" in df_scrape[\"tconst\"].to_list())\n",
    "print(\"tt7368158\" in df_scrape[\"tconst\"].to_list())"
   ]
  },
  {
   "cell_type": "code",
   "execution_count": 8,
   "id": "845919d0",
   "metadata": {},
   "outputs": [
    {
     "data": {
      "text/plain": [
       "{'tt4131756'}"
      ]
     },
     "execution_count": 8,
     "metadata": {},
     "output_type": "execute_result"
    }
   ],
   "source": [
    "set(df_scrape[\"tconst\"].to_list()).difference(df[\"tconst\"].tolist())"
   ]
  },
  {
   "cell_type": "code",
   "execution_count": null,
   "id": "b547f266",
   "metadata": {},
   "outputs": [],
   "source": []
  }
 ],
 "metadata": {
  "kernelspec": {
   "display_name": "Python 3 (ipykernel)",
   "language": "python",
   "name": "python3"
  },
  "language_info": {
   "codemirror_mode": {
    "name": "ipython",
    "version": 3
   },
   "file_extension": ".py",
   "mimetype": "text/x-python",
   "name": "python",
   "nbconvert_exporter": "python",
   "pygments_lexer": "ipython3",
   "version": "3.9.7"
  }
 },
 "nbformat": 4,
 "nbformat_minor": 5
}
